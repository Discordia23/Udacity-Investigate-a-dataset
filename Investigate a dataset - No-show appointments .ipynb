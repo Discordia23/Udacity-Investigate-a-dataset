{
 "cells": [
  {
   "cell_type": "markdown",
   "metadata": {},
   "source": [
    "# Project: Investigate a Dataset - No-Show Appointments\n",
    "\n",
    "## Table of Contents\n",
    "<ul>\n",
    "<li><a href=\"#intro\">1. Introduction</a></li>\n",
    "<li><a href=\"#wrangling\">2. Data Wrangling</a></li>\n",
    "    <ul>\n",
    "    <li><a href=\"#accessing\">2.1. Accessing Data</a></li> \n",
    "        <ul>\n",
    "        <li><a href=\"#general\">2.1.1. General Properties</a></li>  \n",
    "        <li><a href=\"#nan\">2.1.2. NaN, Duplicates and Data Type</a></li>  \n",
    "        <li><a href=\"#age\">2.1.3. Age</a></li>  \n",
    "        <li><a href='#accessing_conc'>2.1.4. Accessing Data - Summary</a></a>\n",
    "        </ul>\n",
    "    <li><a href='#cleaning'>2.2. Data Cleaning</a></a>\n",
    "        <ul>\n",
    "        <li><a href=\"#rename\">2.2.1. Rename columns</a></li>\n",
    "        <li><a href=\"#drop\">2.2.2. Drop Rows</a></li>\n",
    "        <li><a href=\"#Dopt\">2.2.3. Change Display Options</a></li>\n",
    "        <li><a href=\"#Dtype\">2.2.4. Replace Values</a></li>\n",
    "        <li><a href=\"#Dtime\">2.2.5. Datetime / Date</a></li>\n",
    "        <li><a href=\"#Cleaning_sum\">2.2.6. Data Cleaning - Summary</a></li>\n",
    "        </ul>\n",
    "    </ul>\n",
    "<li><a href=\"#eda\">3. Exploratory Data Analysis</a></li>\n",
    "     <ul>\n",
    "    <li><a href=\"main_stat\">3.1. Main Statistics</a></li>\n",
    "    <li><a href=\"#gender\">3.2. Gender</a></li>\n",
    "    <li><a href=\"#age_\">3.3. Age</a></li>\n",
    "    <li><a href=\"#diseases\">3.4. Diseases</a></li>\n",
    "    <li><a href=\"#scholar\">3.5. Scholarship / Welfare Aid</a></li>\n",
    "    <li><a href=\"#sms\">3.6. Sms received</a></li>\n",
    "    <li><a href=\"#neigh\">3.7. Neighbourhood</a></li>\n",
    "    <li><a href=\"#mul\">3.8. Patients with multiple appointments versus patients with a single appointment</a></li>\n",
    "    <li><a href=\"#wait\">3.9. Waiting Periods</a></li>\n",
    "    </ul>\n",
    "<li><a href=\"#conclusions\">4. Conclusions</a></li>\n",
    "</ul>"
   ]
  },
  {
   "cell_type": "markdown",
   "metadata": {},
   "source": [
    "<a id='intro'></a>\n",
    "## 1. Introduction\n",
    "\n",
    "In this project, we'll be analysing a dataset related to medical appointments in Brazil. In particular, we'll try to find trends in why patients didn't show up for their appointments and compare them with the trends of the patients who kept their appointments.  \n",
    "  \n",
    "The main questions we are trying to answer are:\n",
    "- which factors had an impact on the attendance at appointments and which factors did not?\n",
    "- were patients, who had multiple appointments, more likely to miss their appointments as patients who had only one appointment?\n",
    "- did the waiting time between the date of appointment registration and the date of the actual appointment had an effect on the attendance? \n"
   ]
  },
  {
   "cell_type": "markdown",
   "metadata": {},
   "source": [
    "<a id='wrangling'></a>\n",
    "## 2. Data Wrangling\n",
    "\n",
    "In a first step, we'll only explore the data, analyse each column of the dataset, understand its meanings, question its data type and finally note any necessary changes. In a second step, we'll perform all the cleaning steps.\n",
    "<a id='accessing'></a>\n",
    "### 2.1. Accessing Data\n",
    "<a id='general'></a>\n",
    "#### 2.1.1. General Properties\n"
   ]
  },
  {
   "cell_type": "code",
   "execution_count": 1,
   "metadata": {},
   "outputs": [],
   "source": [
    "import pandas as pd\n",
    "import numpy as np\n",
    "import seaborn as sns\n",
    "import matplotlib.pyplot as plt\n",
    "%matplotlib inline"
   ]
  },
  {
   "cell_type": "code",
   "execution_count": 2,
   "metadata": {},
   "outputs": [],
   "source": [
    "df = pd.read_csv('noshowappointments-kagglev2-may-2016.csv')"
   ]
  },
  {
   "cell_type": "code",
   "execution_count": 3,
   "metadata": {
    "scrolled": true
   },
   "outputs": [
    {
     "data": {
      "text/html": [
       "<div>\n",
       "<style scoped>\n",
       "    .dataframe tbody tr th:only-of-type {\n",
       "        vertical-align: middle;\n",
       "    }\n",
       "\n",
       "    .dataframe tbody tr th {\n",
       "        vertical-align: top;\n",
       "    }\n",
       "\n",
       "    .dataframe thead th {\n",
       "        text-align: right;\n",
       "    }\n",
       "</style>\n",
       "<table border=\"1\" class=\"dataframe\">\n",
       "  <thead>\n",
       "    <tr style=\"text-align: right;\">\n",
       "      <th></th>\n",
       "      <th>PatientId</th>\n",
       "      <th>AppointmentID</th>\n",
       "      <th>Gender</th>\n",
       "      <th>ScheduledDay</th>\n",
       "      <th>AppointmentDay</th>\n",
       "      <th>Age</th>\n",
       "      <th>Neighbourhood</th>\n",
       "      <th>Scholarship</th>\n",
       "      <th>Hipertension</th>\n",
       "      <th>Diabetes</th>\n",
       "      <th>Alcoholism</th>\n",
       "      <th>Handcap</th>\n",
       "      <th>SMS_received</th>\n",
       "      <th>No-show</th>\n",
       "    </tr>\n",
       "  </thead>\n",
       "  <tbody>\n",
       "    <tr>\n",
       "      <th>0</th>\n",
       "      <td>2.987250e+13</td>\n",
       "      <td>5642903</td>\n",
       "      <td>F</td>\n",
       "      <td>2016-04-29T18:38:08Z</td>\n",
       "      <td>2016-04-29T00:00:00Z</td>\n",
       "      <td>62</td>\n",
       "      <td>JARDIM DA PENHA</td>\n",
       "      <td>0</td>\n",
       "      <td>1</td>\n",
       "      <td>0</td>\n",
       "      <td>0</td>\n",
       "      <td>0</td>\n",
       "      <td>0</td>\n",
       "      <td>No</td>\n",
       "    </tr>\n",
       "    <tr>\n",
       "      <th>1</th>\n",
       "      <td>5.589978e+14</td>\n",
       "      <td>5642503</td>\n",
       "      <td>M</td>\n",
       "      <td>2016-04-29T16:08:27Z</td>\n",
       "      <td>2016-04-29T00:00:00Z</td>\n",
       "      <td>56</td>\n",
       "      <td>JARDIM DA PENHA</td>\n",
       "      <td>0</td>\n",
       "      <td>0</td>\n",
       "      <td>0</td>\n",
       "      <td>0</td>\n",
       "      <td>0</td>\n",
       "      <td>0</td>\n",
       "      <td>No</td>\n",
       "    </tr>\n",
       "    <tr>\n",
       "      <th>2</th>\n",
       "      <td>4.262962e+12</td>\n",
       "      <td>5642549</td>\n",
       "      <td>F</td>\n",
       "      <td>2016-04-29T16:19:04Z</td>\n",
       "      <td>2016-04-29T00:00:00Z</td>\n",
       "      <td>62</td>\n",
       "      <td>MATA DA PRAIA</td>\n",
       "      <td>0</td>\n",
       "      <td>0</td>\n",
       "      <td>0</td>\n",
       "      <td>0</td>\n",
       "      <td>0</td>\n",
       "      <td>0</td>\n",
       "      <td>No</td>\n",
       "    </tr>\n",
       "    <tr>\n",
       "      <th>3</th>\n",
       "      <td>8.679512e+11</td>\n",
       "      <td>5642828</td>\n",
       "      <td>F</td>\n",
       "      <td>2016-04-29T17:29:31Z</td>\n",
       "      <td>2016-04-29T00:00:00Z</td>\n",
       "      <td>8</td>\n",
       "      <td>PONTAL DE CAMBURI</td>\n",
       "      <td>0</td>\n",
       "      <td>0</td>\n",
       "      <td>0</td>\n",
       "      <td>0</td>\n",
       "      <td>0</td>\n",
       "      <td>0</td>\n",
       "      <td>No</td>\n",
       "    </tr>\n",
       "    <tr>\n",
       "      <th>4</th>\n",
       "      <td>8.841186e+12</td>\n",
       "      <td>5642494</td>\n",
       "      <td>F</td>\n",
       "      <td>2016-04-29T16:07:23Z</td>\n",
       "      <td>2016-04-29T00:00:00Z</td>\n",
       "      <td>56</td>\n",
       "      <td>JARDIM DA PENHA</td>\n",
       "      <td>0</td>\n",
       "      <td>1</td>\n",
       "      <td>1</td>\n",
       "      <td>0</td>\n",
       "      <td>0</td>\n",
       "      <td>0</td>\n",
       "      <td>No</td>\n",
       "    </tr>\n",
       "  </tbody>\n",
       "</table>\n",
       "</div>"
      ],
      "text/plain": [
       "      PatientId  AppointmentID Gender          ScheduledDay  \\\n",
       "0  2.987250e+13        5642903      F  2016-04-29T18:38:08Z   \n",
       "1  5.589978e+14        5642503      M  2016-04-29T16:08:27Z   \n",
       "2  4.262962e+12        5642549      F  2016-04-29T16:19:04Z   \n",
       "3  8.679512e+11        5642828      F  2016-04-29T17:29:31Z   \n",
       "4  8.841186e+12        5642494      F  2016-04-29T16:07:23Z   \n",
       "\n",
       "         AppointmentDay  Age      Neighbourhood  Scholarship  Hipertension  \\\n",
       "0  2016-04-29T00:00:00Z   62    JARDIM DA PENHA            0             1   \n",
       "1  2016-04-29T00:00:00Z   56    JARDIM DA PENHA            0             0   \n",
       "2  2016-04-29T00:00:00Z   62      MATA DA PRAIA            0             0   \n",
       "3  2016-04-29T00:00:00Z    8  PONTAL DE CAMBURI            0             0   \n",
       "4  2016-04-29T00:00:00Z   56    JARDIM DA PENHA            0             1   \n",
       "\n",
       "   Diabetes  Alcoholism  Handcap  SMS_received No-show  \n",
       "0         0           0        0             0      No  \n",
       "1         0           0        0             0      No  \n",
       "2         0           0        0             0      No  \n",
       "3         0           0        0             0      No  \n",
       "4         1           0        0             0      No  "
      ]
     },
     "execution_count": 3,
     "metadata": {},
     "output_type": "execute_result"
    }
   ],
   "source": [
    "# first rows of the dataset:\n",
    "df.head()"
   ]
  },
  {
   "cell_type": "code",
   "execution_count": 4,
   "metadata": {},
   "outputs": [
    {
     "data": {
      "text/plain": [
       "(110527, 14)"
      ]
     },
     "execution_count": 4,
     "metadata": {},
     "output_type": "execute_result"
    }
   ],
   "source": [
    "# numbers of rows and columns in the dataset:\n",
    "df.shape"
   ]
  },
  {
   "cell_type": "markdown",
   "metadata": {},
   "source": [
    "Here is a description of the 14 columns of the dataset:\n",
    "><br>**PatientId**: Identification of the patient. \n",
    "<br>**AppointmentID**: Identification of the appointment.\n",
    "<br>**Gender**: Male/Female.\n",
    "<br>**Scheduled Day**: Day when the appointment has been made. Should have taken place bevor the AppointmentDay.\n",
    "<br>**AppointmentDay**: Day for the doctor appointment.\n",
    "<br>**Age**: Age of the patient.\n",
    "<br>**Neighbourhood**: Place where the appointment took place\n",
    "<br>**Scholarship**: does the patient benefit from the Bolsa Família, a social welfare programm that allows poor brazilian families to receive some financial aid (Footnote 1)\n",
    "<br>**Hipertension**: does the patient suffer from Hypertension? True/False\n",
    "<br>**Diabetes**: does the patient suffer from Diabetes? True/False\n",
    "<br>**Alcoholism**: does the patient suffer from Alcoholism? True/False\n",
    "<br>**Handcap**: how many handicaps does the patient have?\n",
    "<br>**SMS_received**: how many sms did the patient receive?\n",
    "<br>**No-show**: Did the patient miss this appointment? No: the patient showed up - Yes: the patient didn't show up"
   ]
  },
  {
   "cell_type": "code",
   "execution_count": 5,
   "metadata": {},
   "outputs": [
    {
     "data": {
      "image/png": "[encoded data removed]",
      "text/plain": [
       "<Figure size 720x720 with 9 Axes>"
      ]
     },
     "metadata": {
      "needs_background": "light"
     },
     "output_type": "display_data"
    }
   ],
   "source": [
    "# histograms for the columns with numerical values\n",
    "df.hist(figsize=(10,10));"
   ]
  },
  {
   "cell_type": "markdown",
   "metadata": {},
   "source": [
    "We can clearly see here, that some histograms like AppointmentID or PatientId do not provide useful information, because histogram do not make sense for identification numbers.  \n",
    "  Some histograms, such as Diabetes and Alcoholism, also show values 0 and 1, which may not be understandable.  \n",
    "  We are going to check all these columns in the next steps."
   ]
  },
  {
   "cell_type": "code",
   "execution_count": 6,
   "metadata": {},
   "outputs": [
    {
     "data": {
      "text/html": [
       "<div>\n",
       "<style scoped>\n",
       "    .dataframe tbody tr th:only-of-type {\n",
       "        vertical-align: middle;\n",
       "    }\n",
       "\n",
       "    .dataframe tbody tr th {\n",
       "        vertical-align: top;\n",
       "    }\n",
       "\n",
       "    .dataframe thead th {\n",
       "        text-align: right;\n",
       "    }\n",
       "</style>\n",
       "<table border=\"1\" class=\"dataframe\">\n",
       "  <thead>\n",
       "    <tr style=\"text-align: right;\">\n",
       "      <th></th>\n",
       "      <th>PatientId</th>\n",
       "      <th>AppointmentID</th>\n",
       "      <th>Age</th>\n",
       "      <th>Scholarship</th>\n",
       "      <th>Hipertension</th>\n",
       "      <th>Diabetes</th>\n",
       "      <th>Alcoholism</th>\n",
       "      <th>Handcap</th>\n",
       "      <th>SMS_received</th>\n",
       "    </tr>\n",
       "  </thead>\n",
       "  <tbody>\n",
       "    <tr>\n",
       "      <th>count</th>\n",
       "      <td>1.105270e+05</td>\n",
       "      <td>1.105270e+05</td>\n",
       "      <td>110527.000000</td>\n",
       "      <td>110527.000000</td>\n",
       "      <td>110527.000000</td>\n",
       "      <td>110527.000000</td>\n",
       "      <td>110527.000000</td>\n",
       "      <td>110527.000000</td>\n",
       "      <td>110527.000000</td>\n",
       "    </tr>\n",
       "    <tr>\n",
       "      <th>mean</th>\n",
       "      <td>1.474963e+14</td>\n",
       "      <td>5.675305e+06</td>\n",
       "      <td>37.088874</td>\n",
       "      <td>0.098266</td>\n",
       "      <td>0.197246</td>\n",
       "      <td>0.071865</td>\n",
       "      <td>0.030400</td>\n",
       "      <td>0.022248</td>\n",
       "      <td>0.321026</td>\n",
       "    </tr>\n",
       "    <tr>\n",
       "      <th>std</th>\n",
       "      <td>2.560949e+14</td>\n",
       "      <td>7.129575e+04</td>\n",
       "      <td>23.110205</td>\n",
       "      <td>0.297675</td>\n",
       "      <td>0.397921</td>\n",
       "      <td>0.258265</td>\n",
       "      <td>0.171686</td>\n",
       "      <td>0.161543</td>\n",
       "      <td>0.466873</td>\n",
       "    </tr>\n",
       "    <tr>\n",
       "      <th>min</th>\n",
       "      <td>3.921784e+04</td>\n",
       "      <td>5.030230e+06</td>\n",
       "      <td>-1.000000</td>\n",
       "      <td>0.000000</td>\n",
       "      <td>0.000000</td>\n",
       "      <td>0.000000</td>\n",
       "      <td>0.000000</td>\n",
       "      <td>0.000000</td>\n",
       "      <td>0.000000</td>\n",
       "    </tr>\n",
       "    <tr>\n",
       "      <th>25%</th>\n",
       "      <td>4.172614e+12</td>\n",
       "      <td>5.640286e+06</td>\n",
       "      <td>18.000000</td>\n",
       "      <td>0.000000</td>\n",
       "      <td>0.000000</td>\n",
       "      <td>0.000000</td>\n",
       "      <td>0.000000</td>\n",
       "      <td>0.000000</td>\n",
       "      <td>0.000000</td>\n",
       "    </tr>\n",
       "    <tr>\n",
       "      <th>50%</th>\n",
       "      <td>3.173184e+13</td>\n",
       "      <td>5.680573e+06</td>\n",
       "      <td>37.000000</td>\n",
       "      <td>0.000000</td>\n",
       "      <td>0.000000</td>\n",
       "      <td>0.000000</td>\n",
       "      <td>0.000000</td>\n",
       "      <td>0.000000</td>\n",
       "      <td>0.000000</td>\n",
       "    </tr>\n",
       "    <tr>\n",
       "      <th>75%</th>\n",
       "      <td>9.439172e+13</td>\n",
       "      <td>5.725524e+06</td>\n",
       "      <td>55.000000</td>\n",
       "      <td>0.000000</td>\n",
       "      <td>0.000000</td>\n",
       "      <td>0.000000</td>\n",
       "      <td>0.000000</td>\n",
       "      <td>0.000000</td>\n",
       "      <td>1.000000</td>\n",
       "    </tr>\n",
       "    <tr>\n",
       "      <th>max</th>\n",
       "      <td>9.999816e+14</td>\n",
       "      <td>5.790484e+06</td>\n",
       "      <td>115.000000</td>\n",
       "      <td>1.000000</td>\n",
       "      <td>1.000000</td>\n",
       "      <td>1.000000</td>\n",
       "      <td>1.000000</td>\n",
       "      <td>4.000000</td>\n",
       "      <td>1.000000</td>\n",
       "    </tr>\n",
       "  </tbody>\n",
       "</table>\n",
       "</div>"
      ],
      "text/plain": [
       "          PatientId  AppointmentID            Age    Scholarship  \\\n",
       "count  1.105270e+05   1.105270e+05  110527.000000  110527.000000   \n",
       "mean   1.474963e+14   5.675305e+06      37.088874       0.098266   \n",
       "std    2.560949e+14   7.129575e+04      23.110205       0.297675   \n",
       "min    3.921784e+04   5.030230e+06      -1.000000       0.000000   \n",
       "25%    4.172614e+12   5.640286e+06      18.000000       0.000000   \n",
       "50%    3.173184e+13   5.680573e+06      37.000000       0.000000   \n",
       "75%    9.439172e+13   5.725524e+06      55.000000       0.000000   \n",
       "max    9.999816e+14   5.790484e+06     115.000000       1.000000   \n",
       "\n",
       "        Hipertension       Diabetes     Alcoholism        Handcap  \\\n",
       "count  110527.000000  110527.000000  110527.000000  110527.000000   \n",
       "mean        0.197246       0.071865       0.030400       0.022248   \n",
       "std         0.397921       0.258265       0.171686       0.161543   \n",
       "min         0.000000       0.000000       0.000000       0.000000   \n",
       "25%         0.000000       0.000000       0.000000       0.000000   \n",
       "50%         0.000000       0.000000       0.000000       0.000000   \n",
       "75%         0.000000       0.000000       0.000000       0.000000   \n",
       "max         1.000000       1.000000       1.000000       4.000000   \n",
       "\n",
       "        SMS_received  \n",
       "count  110527.000000  \n",
       "mean        0.321026  \n",
       "std         0.466873  \n",
       "min         0.000000  \n",
       "25%         0.000000  \n",
       "50%         0.000000  \n",
       "75%         1.000000  \n",
       "max         1.000000  "
      ]
     },
     "execution_count": 6,
     "metadata": {},
     "output_type": "execute_result"
    }
   ],
   "source": [
    "# statistics for all columns of the dataset\n",
    "df.describe()"
   ]
  },
  {
   "cell_type": "markdown",
   "metadata": {},
   "source": [
    "These statistics do not deliver much noticeable information about our dataset. However, column **Age** shows some particularities, such as the min and max values, that we'll analyse deeper."
   ]
  },
  {
   "cell_type": "markdown",
   "metadata": {},
   "source": [
    "<a id='nan'></a>\n",
    "#### 2.1.2.  NaN, Duplicates and Data Type"
   ]
  },
  {
   "cell_type": "markdown",
   "metadata": {},
   "source": [
    "Let's find out more about this dataset and look at the NaN values, duplicates and data types: "
   ]
  },
  {
   "cell_type": "code",
   "execution_count": 7,
   "metadata": {},
   "outputs": [
    {
     "data": {
      "text/plain": [
       "0"
      ]
     },
     "execution_count": 7,
     "metadata": {},
     "output_type": "execute_result"
    }
   ],
   "source": [
    "# number of NaN in the dataset\n",
    "df.isnull().sum().sum()"
   ]
  },
  {
   "cell_type": "code",
   "execution_count": 8,
   "metadata": {},
   "outputs": [
    {
     "data": {
      "text/plain": [
       "False    110527\n",
       "dtype: int64"
      ]
     },
     "execution_count": 8,
     "metadata": {},
     "output_type": "execute_result"
    }
   ],
   "source": [
    "# number of duplicated rows in the dataset\n",
    "df.duplicated().value_counts()"
   ]
  },
  {
   "cell_type": "markdown",
   "metadata": {},
   "source": [
    "Currently, our dataframe contains 110527 rows in total, so there aren't any NaN values or duplicates."
   ]
  },
  {
   "cell_type": "code",
   "execution_count": 9,
   "metadata": {},
   "outputs": [
    {
     "name": "stdout",
     "output_type": "stream",
     "text": [
      "<class 'pandas.core.frame.DataFrame'>\n",
      "RangeIndex: 110527 entries, 0 to 110526\n",
      "Data columns (total 14 columns):\n",
      " #   Column          Non-Null Count   Dtype  \n",
      "---  ------          --------------   -----  \n",
      " 0   PatientId       110527 non-null  float64\n",
      " 1   AppointmentID   110527 non-null  int64  \n",
      " 2   Gender          110527 non-null  object \n",
      " 3   ScheduledDay    110527 non-null  object \n",
      " 4   AppointmentDay  110527 non-null  object \n",
      " 5   Age             110527 non-null  int64  \n",
      " 6   Neighbourhood   110527 non-null  object \n",
      " 7   Scholarship     110527 non-null  int64  \n",
      " 8   Hipertension    110527 non-null  int64  \n",
      " 9   Diabetes        110527 non-null  int64  \n",
      " 10  Alcoholism      110527 non-null  int64  \n",
      " 11  Handcap         110527 non-null  int64  \n",
      " 12  SMS_received    110527 non-null  int64  \n",
      " 13  No-show         110527 non-null  object \n",
      "dtypes: float64(1), int64(8), object(5)\n",
      "memory usage: 11.8+ MB\n"
     ]
    }
   ],
   "source": [
    "# data type information\n",
    "df.info()"
   ]
  },
  {
   "cell_type": "markdown",
   "metadata": {},
   "source": [
    "We should correct the spelling of some columns (**Hipertension**, **Handcap**) and standardize all the column names (lowercase, underscore).\n",
    "<br>The identifications in the column **PatientId** are written in scientific notation. The column has Dtype float, we can simply leave the data type unchanged and adapt the display option for floats in Pandas.\n",
    "<br>Both columns **Scheduled Day** and **AppointmentDay** have data type string. To make sure that the data type allows us to run some analysis, we should change it to **datatime**. We also have to check if the data is consistent (Scheduled Day < AppointmentDay).\n",
    "<br>The columns **Scholarship**, **Hipertension**, **Diabetes**, **Alcoholism** all have data type integer. The values are currently 0 for No and 1 for Yes. To make our data more comprehensible, we should change the 0 / 1 values to No / Yes values. "
   ]
  },
  {
   "cell_type": "markdown",
   "metadata": {},
   "source": [
    "<a id='age'></a>\n",
    "#### 2.1.3. Age\n",
    "Let's take a closer look at the column **Age** as it shows some inconsistencies:"
   ]
  },
  {
   "cell_type": "code",
   "execution_count": 10,
   "metadata": {},
   "outputs": [
    {
     "data": {
      "text/plain": [
       "104"
      ]
     },
     "execution_count": 10,
     "metadata": {},
     "output_type": "execute_result"
    }
   ],
   "source": [
    "df['Age'].nunique()"
   ]
  },
  {
   "cell_type": "markdown",
   "metadata": {},
   "source": [
    "The dataset has 104 different age values. Since this range is very large, let's have a closer look: "
   ]
  },
  {
   "cell_type": "code",
   "execution_count": 11,
   "metadata": {},
   "outputs": [
    {
     "data": {
      "image/png": "[encoded data removed]",
      "text/plain": [
       "<Figure size 576x432 with 1 Axes>"
      ]
     },
     "metadata": {
      "needs_background": "light"
     },
     "output_type": "display_data"
    }
   ],
   "source": [
    "# repartition of the different ages\n",
    "df['Age'].hist(figsize=(8,6)); "
   ]
  },
  {
   "cell_type": "code",
   "execution_count": 12,
   "metadata": {},
   "outputs": [
    {
     "data": {
      "text/plain": [
       "count    110527.000000\n",
       "mean         37.088874\n",
       "std          23.110205\n",
       "min          -1.000000\n",
       "25%          18.000000\n",
       "50%          37.000000\n",
       "75%          55.000000\n",
       "max         115.000000\n",
       "Name: Age, dtype: float64"
      ]
     },
     "execution_count": 12,
     "metadata": {},
     "output_type": "execute_result"
    }
   ],
   "source": [
    "# statistics of the column Age\n",
    "df['Age'].describe()"
   ]
  },
  {
   "cell_type": "markdown",
   "metadata": {},
   "source": [
    "The minimum and maximum values look like wrong values and/or outliers."
   ]
  },
  {
   "cell_type": "code",
   "execution_count": 13,
   "metadata": {},
   "outputs": [
    {
     "data": {
      "text/html": [
       "<div>\n",
       "<style scoped>\n",
       "    .dataframe tbody tr th:only-of-type {\n",
       "        vertical-align: middle;\n",
       "    }\n",
       "\n",
       "    .dataframe tbody tr th {\n",
       "        vertical-align: top;\n",
       "    }\n",
       "\n",
       "    .dataframe thead th {\n",
       "        text-align: right;\n",
       "    }\n",
       "</style>\n",
       "<table border=\"1\" class=\"dataframe\">\n",
       "  <thead>\n",
       "    <tr style=\"text-align: right;\">\n",
       "      <th></th>\n",
       "      <th>PatientId</th>\n",
       "      <th>AppointmentID</th>\n",
       "      <th>Gender</th>\n",
       "      <th>ScheduledDay</th>\n",
       "      <th>AppointmentDay</th>\n",
       "      <th>Age</th>\n",
       "      <th>Neighbourhood</th>\n",
       "      <th>Scholarship</th>\n",
       "      <th>Hipertension</th>\n",
       "      <th>Diabetes</th>\n",
       "      <th>Alcoholism</th>\n",
       "      <th>Handcap</th>\n",
       "      <th>SMS_received</th>\n",
       "      <th>No-show</th>\n",
       "    </tr>\n",
       "  </thead>\n",
       "  <tbody>\n",
       "    <tr>\n",
       "      <th>99832</th>\n",
       "      <td>4.659432e+14</td>\n",
       "      <td>5775010</td>\n",
       "      <td>F</td>\n",
       "      <td>2016-06-06T08:58:13Z</td>\n",
       "      <td>2016-06-06T00:00:00Z</td>\n",
       "      <td>-1</td>\n",
       "      <td>ROMÃO</td>\n",
       "      <td>0</td>\n",
       "      <td>0</td>\n",
       "      <td>0</td>\n",
       "      <td>0</td>\n",
       "      <td>0</td>\n",
       "      <td>0</td>\n",
       "      <td>No</td>\n",
       "    </tr>\n",
       "  </tbody>\n",
       "</table>\n",
       "</div>"
      ],
      "text/plain": [
       "          PatientId  AppointmentID Gender          ScheduledDay  \\\n",
       "99832  4.659432e+14        5775010      F  2016-06-06T08:58:13Z   \n",
       "\n",
       "             AppointmentDay  Age Neighbourhood  Scholarship  Hipertension  \\\n",
       "99832  2016-06-06T00:00:00Z   -1         ROMÃO            0             0   \n",
       "\n",
       "       Diabetes  Alcoholism  Handcap  SMS_received No-show  \n",
       "99832         0           0        0             0      No  "
      ]
     },
     "execution_count": 13,
     "metadata": {},
     "output_type": "execute_result"
    }
   ],
   "source": [
    "# select the rows with min age value:\n",
    "df.query('Age == -1')"
   ]
  },
  {
   "cell_type": "markdown",
   "metadata": {},
   "source": [
    "This row contains apparently wrong age information. We'll drop it from the dataset.\n",
    "<br>Now, let's analyse the high ages (above 99 years):"
   ]
  },
  {
   "cell_type": "code",
   "execution_count": 14,
   "metadata": {},
   "outputs": [
    {
     "data": {
      "text/plain": [
       "11"
      ]
     },
     "execution_count": 14,
     "metadata": {},
     "output_type": "execute_result"
    }
   ],
   "source": [
    "# Number of appointments with patients older than 99 years:\n",
    "high_age = df.query('Age > 99')\n",
    "high_age.PatientId.count()"
   ]
  },
  {
   "cell_type": "code",
   "execution_count": 15,
   "metadata": {},
   "outputs": [
    {
     "data": {
      "text/plain": [
       "7"
      ]
     },
     "execution_count": 15,
     "metadata": {},
     "output_type": "execute_result"
    }
   ],
   "source": [
    "# how many patients are older than 99 years:\n",
    "high_age['PatientId'].nunique()"
   ]
  },
  {
   "cell_type": "code",
   "execution_count": 16,
   "metadata": {
    "scrolled": true
   },
   "outputs": [
    {
     "data": {
      "text/html": [
       "<div>\n",
       "<style scoped>\n",
       "    .dataframe tbody tr th:only-of-type {\n",
       "        vertical-align: middle;\n",
       "    }\n",
       "\n",
       "    .dataframe tbody tr th {\n",
       "        vertical-align: top;\n",
       "    }\n",
       "\n",
       "    .dataframe thead th {\n",
       "        text-align: right;\n",
       "    }\n",
       "</style>\n",
       "<table border=\"1\" class=\"dataframe\">\n",
       "  <thead>\n",
       "    <tr style=\"text-align: right;\">\n",
       "      <th></th>\n",
       "      <th>PatientId</th>\n",
       "      <th>AppointmentID</th>\n",
       "      <th>Gender</th>\n",
       "      <th>ScheduledDay</th>\n",
       "      <th>AppointmentDay</th>\n",
       "      <th>Age</th>\n",
       "      <th>Neighbourhood</th>\n",
       "      <th>Scholarship</th>\n",
       "      <th>Hipertension</th>\n",
       "      <th>Diabetes</th>\n",
       "      <th>Alcoholism</th>\n",
       "      <th>Handcap</th>\n",
       "      <th>SMS_received</th>\n",
       "      <th>No-show</th>\n",
       "    </tr>\n",
       "  </thead>\n",
       "  <tbody>\n",
       "    <tr>\n",
       "      <th>58014</th>\n",
       "      <td>9.762948e+14</td>\n",
       "      <td>5651757</td>\n",
       "      <td>F</td>\n",
       "      <td>2016-05-03T09:14:53Z</td>\n",
       "      <td>2016-05-03T00:00:00Z</td>\n",
       "      <td>102</td>\n",
       "      <td>CONQUISTA</td>\n",
       "      <td>0</td>\n",
       "      <td>0</td>\n",
       "      <td>0</td>\n",
       "      <td>0</td>\n",
       "      <td>0</td>\n",
       "      <td>0</td>\n",
       "      <td>No</td>\n",
       "    </tr>\n",
       "    <tr>\n",
       "      <th>63912</th>\n",
       "      <td>3.196321e+13</td>\n",
       "      <td>5700278</td>\n",
       "      <td>F</td>\n",
       "      <td>2016-05-16T09:17:44Z</td>\n",
       "      <td>2016-05-19T00:00:00Z</td>\n",
       "      <td>115</td>\n",
       "      <td>ANDORINHAS</td>\n",
       "      <td>0</td>\n",
       "      <td>0</td>\n",
       "      <td>0</td>\n",
       "      <td>0</td>\n",
       "      <td>1</td>\n",
       "      <td>0</td>\n",
       "      <td>Yes</td>\n",
       "    </tr>\n",
       "    <tr>\n",
       "      <th>63915</th>\n",
       "      <td>3.196321e+13</td>\n",
       "      <td>5700279</td>\n",
       "      <td>F</td>\n",
       "      <td>2016-05-16T09:17:44Z</td>\n",
       "      <td>2016-05-19T00:00:00Z</td>\n",
       "      <td>115</td>\n",
       "      <td>ANDORINHAS</td>\n",
       "      <td>0</td>\n",
       "      <td>0</td>\n",
       "      <td>0</td>\n",
       "      <td>0</td>\n",
       "      <td>1</td>\n",
       "      <td>0</td>\n",
       "      <td>Yes</td>\n",
       "    </tr>\n",
       "    <tr>\n",
       "      <th>68127</th>\n",
       "      <td>3.196321e+13</td>\n",
       "      <td>5562812</td>\n",
       "      <td>F</td>\n",
       "      <td>2016-04-08T14:29:17Z</td>\n",
       "      <td>2016-05-16T00:00:00Z</td>\n",
       "      <td>115</td>\n",
       "      <td>ANDORINHAS</td>\n",
       "      <td>0</td>\n",
       "      <td>0</td>\n",
       "      <td>0</td>\n",
       "      <td>0</td>\n",
       "      <td>1</td>\n",
       "      <td>0</td>\n",
       "      <td>Yes</td>\n",
       "    </tr>\n",
       "    <tr>\n",
       "      <th>76284</th>\n",
       "      <td>3.196321e+13</td>\n",
       "      <td>5744037</td>\n",
       "      <td>F</td>\n",
       "      <td>2016-05-30T09:44:51Z</td>\n",
       "      <td>2016-05-30T00:00:00Z</td>\n",
       "      <td>115</td>\n",
       "      <td>ANDORINHAS</td>\n",
       "      <td>0</td>\n",
       "      <td>0</td>\n",
       "      <td>0</td>\n",
       "      <td>0</td>\n",
       "      <td>1</td>\n",
       "      <td>0</td>\n",
       "      <td>No</td>\n",
       "    </tr>\n",
       "    <tr>\n",
       "      <th>79270</th>\n",
       "      <td>9.739430e+12</td>\n",
       "      <td>5747809</td>\n",
       "      <td>M</td>\n",
       "      <td>2016-05-30T16:21:56Z</td>\n",
       "      <td>2016-05-31T00:00:00Z</td>\n",
       "      <td>100</td>\n",
       "      <td>TABUAZEIRO</td>\n",
       "      <td>0</td>\n",
       "      <td>0</td>\n",
       "      <td>0</td>\n",
       "      <td>0</td>\n",
       "      <td>1</td>\n",
       "      <td>0</td>\n",
       "      <td>No</td>\n",
       "    </tr>\n",
       "    <tr>\n",
       "      <th>79272</th>\n",
       "      <td>9.739430e+12</td>\n",
       "      <td>5747808</td>\n",
       "      <td>M</td>\n",
       "      <td>2016-05-30T16:21:56Z</td>\n",
       "      <td>2016-05-31T00:00:00Z</td>\n",
       "      <td>100</td>\n",
       "      <td>TABUAZEIRO</td>\n",
       "      <td>0</td>\n",
       "      <td>0</td>\n",
       "      <td>0</td>\n",
       "      <td>0</td>\n",
       "      <td>1</td>\n",
       "      <td>0</td>\n",
       "      <td>No</td>\n",
       "    </tr>\n",
       "    <tr>\n",
       "      <th>90372</th>\n",
       "      <td>2.342836e+11</td>\n",
       "      <td>5751563</td>\n",
       "      <td>F</td>\n",
       "      <td>2016-05-31T10:19:49Z</td>\n",
       "      <td>2016-06-02T00:00:00Z</td>\n",
       "      <td>102</td>\n",
       "      <td>MARIA ORTIZ</td>\n",
       "      <td>0</td>\n",
       "      <td>0</td>\n",
       "      <td>0</td>\n",
       "      <td>0</td>\n",
       "      <td>0</td>\n",
       "      <td>0</td>\n",
       "      <td>No</td>\n",
       "    </tr>\n",
       "    <tr>\n",
       "      <th>92084</th>\n",
       "      <td>5.578313e+13</td>\n",
       "      <td>5670914</td>\n",
       "      <td>F</td>\n",
       "      <td>2016-05-06T14:55:36Z</td>\n",
       "      <td>2016-06-03T00:00:00Z</td>\n",
       "      <td>100</td>\n",
       "      <td>ANTÔNIO HONÓRIO</td>\n",
       "      <td>0</td>\n",
       "      <td>0</td>\n",
       "      <td>0</td>\n",
       "      <td>0</td>\n",
       "      <td>0</td>\n",
       "      <td>1</td>\n",
       "      <td>No</td>\n",
       "    </tr>\n",
       "    <tr>\n",
       "      <th>97666</th>\n",
       "      <td>7.482346e+14</td>\n",
       "      <td>5717451</td>\n",
       "      <td>F</td>\n",
       "      <td>2016-05-19T07:57:56Z</td>\n",
       "      <td>2016-06-03T00:00:00Z</td>\n",
       "      <td>115</td>\n",
       "      <td>SÃO JOSÉ</td>\n",
       "      <td>0</td>\n",
       "      <td>1</td>\n",
       "      <td>0</td>\n",
       "      <td>0</td>\n",
       "      <td>0</td>\n",
       "      <td>1</td>\n",
       "      <td>No</td>\n",
       "    </tr>\n",
       "    <tr>\n",
       "      <th>108506</th>\n",
       "      <td>3.939642e+11</td>\n",
       "      <td>5721152</td>\n",
       "      <td>F</td>\n",
       "      <td>2016-05-19T15:32:09Z</td>\n",
       "      <td>2016-06-01T00:00:00Z</td>\n",
       "      <td>100</td>\n",
       "      <td>MARUÍPE</td>\n",
       "      <td>0</td>\n",
       "      <td>0</td>\n",
       "      <td>0</td>\n",
       "      <td>0</td>\n",
       "      <td>0</td>\n",
       "      <td>0</td>\n",
       "      <td>No</td>\n",
       "    </tr>\n",
       "  </tbody>\n",
       "</table>\n",
       "</div>"
      ],
      "text/plain": [
       "           PatientId  AppointmentID Gender          ScheduledDay  \\\n",
       "58014   9.762948e+14        5651757      F  2016-05-03T09:14:53Z   \n",
       "63912   3.196321e+13        5700278      F  2016-05-16T09:17:44Z   \n",
       "63915   3.196321e+13        5700279      F  2016-05-16T09:17:44Z   \n",
       "68127   3.196321e+13        5562812      F  2016-04-08T14:29:17Z   \n",
       "76284   3.196321e+13        5744037      F  2016-05-30T09:44:51Z   \n",
       "79270   9.739430e+12        5747809      M  2016-05-30T16:21:56Z   \n",
       "79272   9.739430e+12        5747808      M  2016-05-30T16:21:56Z   \n",
       "90372   2.342836e+11        5751563      F  2016-05-31T10:19:49Z   \n",
       "92084   5.578313e+13        5670914      F  2016-05-06T14:55:36Z   \n",
       "97666   7.482346e+14        5717451      F  2016-05-19T07:57:56Z   \n",
       "108506  3.939642e+11        5721152      F  2016-05-19T15:32:09Z   \n",
       "\n",
       "              AppointmentDay  Age    Neighbourhood  Scholarship  Hipertension  \\\n",
       "58014   2016-05-03T00:00:00Z  102        CONQUISTA            0             0   \n",
       "63912   2016-05-19T00:00:00Z  115       ANDORINHAS            0             0   \n",
       "63915   2016-05-19T00:00:00Z  115       ANDORINHAS            0             0   \n",
       "68127   2016-05-16T00:00:00Z  115       ANDORINHAS            0             0   \n",
       "76284   2016-05-30T00:00:00Z  115       ANDORINHAS            0             0   \n",
       "79270   2016-05-31T00:00:00Z  100       TABUAZEIRO            0             0   \n",
       "79272   2016-05-31T00:00:00Z  100       TABUAZEIRO            0             0   \n",
       "90372   2016-06-02T00:00:00Z  102      MARIA ORTIZ            0             0   \n",
       "92084   2016-06-03T00:00:00Z  100  ANTÔNIO HONÓRIO            0             0   \n",
       "97666   2016-06-03T00:00:00Z  115         SÃO JOSÉ            0             1   \n",
       "108506  2016-06-01T00:00:00Z  100          MARUÍPE            0             0   \n",
       "\n",
       "        Diabetes  Alcoholism  Handcap  SMS_received No-show  \n",
       "58014          0           0        0             0      No  \n",
       "63912          0           0        1             0     Yes  \n",
       "63915          0           0        1             0     Yes  \n",
       "68127          0           0        1             0     Yes  \n",
       "76284          0           0        1             0      No  \n",
       "79270          0           0        1             0      No  \n",
       "79272          0           0        1             0      No  \n",
       "90372          0           0        0             0      No  \n",
       "92084          0           0        0             1      No  \n",
       "97666          0           0        0             1      No  \n",
       "108506         0           0        0             0      No  "
      ]
     },
     "execution_count": 16,
     "metadata": {},
     "output_type": "execute_result"
    }
   ],
   "source": [
    "high_age"
   ]
  },
  {
   "cell_type": "markdown",
   "metadata": {},
   "source": [
    "The dataset contains 11 appointments from high aged patients who are above 99 years old. These appointments concerned 7 different patients. As this data doesn't show any inconsistencies, we'll keep it in the dataset."
   ]
  },
  {
   "cell_type": "markdown",
   "metadata": {},
   "source": [
    "<a id='accessing_conc'></a>\n",
    "#### 2.1.4. Accessing Data - Summary\n",
    "\n"
   ]
  },
  {
   "cell_type": "markdown",
   "metadata": {},
   "source": [
    "We've highlighted several points that now need to be cleaned up. Here a summary:  \n",
    "><br> - Rename the columns **Hipertension** and **Handcap** and standardize the name of all other columns.\n",
    "<br> - Drop the row with Age = -1.\n",
    "<br> - Change the display options for floats in order to see the whole **PatientId** values and avoid scientific notations.\n",
    "<br> - Change the data type of the columns **Scholarship, Hipertension, Diabetes, Alcoholism** and replace the values 0 and 1 with No and Yes.\n",
    "<br> - Change the data type of the columns **Scheduled Day** and **AppointmentDay** and check their consistency.\n",
    "\n",
    "\n",
    "<br>Let's do all these steps in the second part of the data wrangling: Data cleaning.\n",
    "\n",
    "<a id='cleaning'></a>\n",
    "### 2.2. Data Cleaning \n",
    "We are know going to clean the dataset according to the points listed above.\n",
    "\n",
    "<a id='rename'></a>\n",
    "#### 2.2.1. Rename Columns"
   ]
  },
  {
   "cell_type": "code",
   "execution_count": 17,
   "metadata": {},
   "outputs": [
    {
     "data": {
      "text/plain": [
       "Index(['patient_id', 'appointment_id', 'gender', 'scheduled_day',\n",
       "       'appointment_day', 'age', 'neighbourhood', 'scholarship',\n",
       "       'hypertension', 'diabetes', 'alcoholism', 'handicap', 'sms_received',\n",
       "       'no_show'],\n",
       "      dtype='object')"
      ]
     },
     "execution_count": 17,
     "metadata": {},
     "output_type": "execute_result"
    }
   ],
   "source": [
    "# correct the spelling errors, separate the words with an underscore and apply lower case:\n",
    "df.rename(columns={'PatientId': 'patient_id', 'AppointmentID': 'appointment_id', 'ScheduledDay': 'scheduled_day', \n",
    "                   'AppointmentDay': 'appointment_day','Hipertension': 'hypertension', 'Handcap': 'handicap', \n",
    "                   'No-show': 'no_show' }, inplace=True)\n",
    "df.rename(columns=lambda x:x.lower(), inplace=True)\n",
    "df.columns"
   ]
  },
  {
   "cell_type": "markdown",
   "metadata": {},
   "source": [
    "<a id='drop'></a>\n",
    "#### 2.2.2. Drop Rows"
   ]
  },
  {
   "cell_type": "code",
   "execution_count": 18,
   "metadata": {},
   "outputs": [
    {
     "data": {
      "text/plain": [
       "(110526, 14)"
      ]
     },
     "execution_count": 18,
     "metadata": {},
     "output_type": "execute_result"
    }
   ],
   "source": [
    "# drop the row where age = -1\n",
    "df.drop(index=df[df['age'] == -1].index, inplace=True)\n",
    "df.shape"
   ]
  },
  {
   "cell_type": "markdown",
   "metadata": {},
   "source": [
    "After dropping this single row, our dataset has now 110526 rows."
   ]
  },
  {
   "cell_type": "markdown",
   "metadata": {},
   "source": [
    "<a id='Dopt'></a>\n",
    "#### 2.2.3. Change Display Options"
   ]
  },
  {
   "cell_type": "code",
   "execution_count": 19,
   "metadata": {},
   "outputs": [],
   "source": [
    "# change the display option for floats in the dataframe to avoid scientic notations\n",
    "pd.options.display.float_format = '{:.1f}'.format"
   ]
  },
  {
   "cell_type": "code",
   "execution_count": 20,
   "metadata": {},
   "outputs": [
    {
     "data": {
      "text/plain": [
       "0    29872499824296.0\n",
       "1   558997776694438.0\n",
       "2     4262962299951.0\n",
       "3      867951213174.0\n",
       "4     8841186448183.0\n",
       "Name: patient_id, dtype: float64"
      ]
     },
     "execution_count": 20,
     "metadata": {},
     "output_type": "execute_result"
    }
   ],
   "source": [
    "# extract of the column 'patient_id' after changing the display option\n",
    "df.head()['patient_id']"
   ]
  },
  {
   "cell_type": "markdown",
   "metadata": {},
   "source": [
    "The values in the **patient_id** column have still data type float but are now fully readable (no scientific notations).  \n",
    "We retain one decimal value in order to better compare and analyse future percentages."
   ]
  },
  {
   "cell_type": "markdown",
   "metadata": {},
   "source": [
    "<a id='Dtype'></a>\n",
    "#### 2.2.4. Replace values\n",
    "To ensure that the values are replaced completely, we first check the unique values in the columns **scholarship**, **hypertension**, **diabetes** and **alcoholism**:"
   ]
  },
  {
   "cell_type": "code",
   "execution_count": 21,
   "metadata": {},
   "outputs": [
    {
     "data": {
      "text/plain": [
       "array([0, 1], dtype=int64)"
      ]
     },
     "execution_count": 21,
     "metadata": {},
     "output_type": "execute_result"
    }
   ],
   "source": [
    "# check the unique values in the columns 'scholarship', 'hypertension', 'diabetes' and 'alcoholism'\n",
    "col = ['scholarship', 'hypertension','diabetes', 'alcoholism']\n",
    "col_values = df[col].values\n",
    "unique_values =  np.unique(col_values)\n",
    "unique_values"
   ]
  },
  {
   "cell_type": "code",
   "execution_count": 22,
   "metadata": {},
   "outputs": [],
   "source": [
    "# replace values 0 and 1 with No and Yes \n",
    "df[col] = df[col].replace({0: 'No', 1: 'Yes'})"
   ]
  },
  {
   "cell_type": "code",
   "execution_count": 23,
   "metadata": {},
   "outputs": [
    {
     "data": {
      "text/plain": [
       "array(['No', 'Yes'], dtype=object)"
      ]
     },
     "execution_count": 23,
     "metadata": {},
     "output_type": "execute_result"
    }
   ],
   "source": [
    "# check the new unique values in the columns 'scholarship', 'hypertension', 'diabetes' and 'alcoholism'\n",
    "col_values = df[col].values\n",
    "unique_values =  np.unique(col_values)\n",
    "unique_values"
   ]
  },
  {
   "cell_type": "markdown",
   "metadata": {},
   "source": [
    "All values *0* and *1* have been replaced with *No* and *Yes*. The datatype changed automatically from integer to string."
   ]
  },
  {
   "cell_type": "markdown",
   "metadata": {},
   "source": [
    "<a id='Dtime'></a>\n",
    "#### 2.2.5. Datetime / Date\n",
    "The columns **scheduled_day** and **appointment_day** contain different information: only the column **scheduled_day** has a timestamp filled with data. To standardize both columns,  we're going to keep only the date information."
   ]
  },
  {
   "cell_type": "code",
   "execution_count": 24,
   "metadata": {},
   "outputs": [
    {
     "data": {
      "text/html": [
       "<div>\n",
       "<style scoped>\n",
       "    .dataframe tbody tr th:only-of-type {\n",
       "        vertical-align: middle;\n",
       "    }\n",
       "\n",
       "    .dataframe tbody tr th {\n",
       "        vertical-align: top;\n",
       "    }\n",
       "\n",
       "    .dataframe thead th {\n",
       "        text-align: right;\n",
       "    }\n",
       "</style>\n",
       "<table border=\"1\" class=\"dataframe\">\n",
       "  <thead>\n",
       "    <tr style=\"text-align: right;\">\n",
       "      <th></th>\n",
       "      <th>scheduled_day</th>\n",
       "      <th>appointment_day</th>\n",
       "    </tr>\n",
       "  </thead>\n",
       "  <tbody>\n",
       "    <tr>\n",
       "      <th>0</th>\n",
       "      <td>2016-04-29T18:38:08Z</td>\n",
       "      <td>2016-04-29T00:00:00Z</td>\n",
       "    </tr>\n",
       "  </tbody>\n",
       "</table>\n",
       "</div>"
      ],
      "text/plain": [
       "          scheduled_day       appointment_day\n",
       "0  2016-04-29T18:38:08Z  2016-04-29T00:00:00Z"
      ]
     },
     "execution_count": 24,
     "metadata": {},
     "output_type": "execute_result"
    }
   ],
   "source": [
    "# example of current values in both columns\n",
    "col = ['scheduled_day', 'appointment_day']\n",
    "df[col].head(1)"
   ]
  },
  {
   "cell_type": "code",
   "execution_count": 25,
   "metadata": {},
   "outputs": [
    {
     "data": {
      "text/plain": [
       "scheduled_day      object\n",
       "appointment_day    object\n",
       "dtype: object"
      ]
     },
     "execution_count": 25,
     "metadata": {},
     "output_type": "execute_result"
    }
   ],
   "source": [
    "# data type information of the columns\n",
    "df[col].dtypes"
   ]
  },
  {
   "cell_type": "code",
   "execution_count": 26,
   "metadata": {},
   "outputs": [],
   "source": [
    "# change data type in datetime and remove timestamp and timezone\n",
    "df['scheduled_day'] = pd.to_datetime(df['scheduled_day']).dt.date\n",
    "df['appointment_day'] = pd.to_datetime(df['appointment_day']).dt.date"
   ]
  },
  {
   "cell_type": "code",
   "execution_count": 27,
   "metadata": {},
   "outputs": [
    {
     "data": {
      "text/html": [
       "<div>\n",
       "<style scoped>\n",
       "    .dataframe tbody tr th:only-of-type {\n",
       "        vertical-align: middle;\n",
       "    }\n",
       "\n",
       "    .dataframe tbody tr th {\n",
       "        vertical-align: top;\n",
       "    }\n",
       "\n",
       "    .dataframe thead th {\n",
       "        text-align: right;\n",
       "    }\n",
       "</style>\n",
       "<table border=\"1\" class=\"dataframe\">\n",
       "  <thead>\n",
       "    <tr style=\"text-align: right;\">\n",
       "      <th></th>\n",
       "      <th>scheduled_day</th>\n",
       "      <th>appointment_day</th>\n",
       "    </tr>\n",
       "  </thead>\n",
       "  <tbody>\n",
       "    <tr>\n",
       "      <th>0</th>\n",
       "      <td>2016-04-29</td>\n",
       "      <td>2016-04-29</td>\n",
       "    </tr>\n",
       "  </tbody>\n",
       "</table>\n",
       "</div>"
      ],
      "text/plain": [
       "  scheduled_day appointment_day\n",
       "0    2016-04-29      2016-04-29"
      ]
     },
     "execution_count": 27,
     "metadata": {},
     "output_type": "execute_result"
    }
   ],
   "source": [
    "# extract of data after removing unnecessary information\n",
    "df[col].head(1)"
   ]
  },
  {
   "cell_type": "markdown",
   "metadata": {},
   "source": [
    "Now, we need to make sure, that the data in both columns is plausible: the scheduled day should have taken place before or at least on the same day as the appointment day. Let's create a new column **waiting_period_days** representing the timedelta between both columns **appointment_day** and **scheduled_day**:"
   ]
  },
  {
   "cell_type": "code",
   "execution_count": 28,
   "metadata": {},
   "outputs": [],
   "source": [
    "# new column representing the waiting period\n",
    "df['waiting_period_days'] = df['appointment_day'] - df['scheduled_day']"
   ]
  },
  {
   "cell_type": "code",
   "execution_count": 29,
   "metadata": {},
   "outputs": [
    {
     "data": {
      "text/html": [
       "<div>\n",
       "<style scoped>\n",
       "    .dataframe tbody tr th:only-of-type {\n",
       "        vertical-align: middle;\n",
       "    }\n",
       "\n",
       "    .dataframe tbody tr th {\n",
       "        vertical-align: top;\n",
       "    }\n",
       "\n",
       "    .dataframe thead th {\n",
       "        text-align: right;\n",
       "    }\n",
       "</style>\n",
       "<table border=\"1\" class=\"dataframe\">\n",
       "  <thead>\n",
       "    <tr style=\"text-align: right;\">\n",
       "      <th></th>\n",
       "      <th>scheduled_day</th>\n",
       "      <th>appointment_day</th>\n",
       "      <th>waiting_period_days</th>\n",
       "    </tr>\n",
       "  </thead>\n",
       "  <tbody>\n",
       "    <tr>\n",
       "      <th>0</th>\n",
       "      <td>2016-04-29</td>\n",
       "      <td>2016-04-29</td>\n",
       "      <td>0 days</td>\n",
       "    </tr>\n",
       "  </tbody>\n",
       "</table>\n",
       "</div>"
      ],
      "text/plain": [
       "  scheduled_day appointment_day waiting_period_days\n",
       "0    2016-04-29      2016-04-29              0 days"
      ]
     },
     "execution_count": 29,
     "metadata": {},
     "output_type": "execute_result"
    }
   ],
   "source": [
    "# extract of the new column 'waiting_period_days'\n",
    "df[['scheduled_day', 'appointment_day', 'waiting_period_days']].head(1)"
   ]
  },
  {
   "cell_type": "code",
   "execution_count": 30,
   "metadata": {},
   "outputs": [
    {
     "data": {
      "text/plain": [
       "patient_id                     float64\n",
       "appointment_id                   int64\n",
       "gender                          object\n",
       "scheduled_day                   object\n",
       "appointment_day                 object\n",
       "age                              int64\n",
       "neighbourhood                   object\n",
       "scholarship                     object\n",
       "hypertension                    object\n",
       "diabetes                        object\n",
       "alcoholism                      object\n",
       "handicap                         int64\n",
       "sms_received                     int64\n",
       "no_show                         object\n",
       "waiting_period_days    timedelta64[ns]\n",
       "dtype: object"
      ]
     },
     "execution_count": 30,
     "metadata": {},
     "output_type": "execute_result"
    }
   ],
   "source": [
    "# current data types of all columns\n",
    "df.dtypes"
   ]
  },
  {
   "cell_type": "markdown",
   "metadata": {},
   "source": [
    "The new column **waiting_period_days** has data type *timedelta*. As we want this column to represent only day values, we're going to select the day component of the values. This will change the data type to float and will facilitate future analyses:"
   ]
  },
  {
   "cell_type": "code",
   "execution_count": 31,
   "metadata": {},
   "outputs": [],
   "source": [
    "# replace the values in the column 'waiting_period_days' with the component day of the timedelta\n",
    "df['waiting_period_days'] = df['waiting_period_days'].dt.components.days"
   ]
  },
  {
   "cell_type": "markdown",
   "metadata": {},
   "source": [
    "Now, let's take a look at our data in the new column **waiting_period_days** to check if some values need to be cleaned up:"
   ]
  },
  {
   "cell_type": "code",
   "execution_count": 32,
   "metadata": {},
   "outputs": [
    {
     "data": {
      "text/plain": [
       "count   110526.0\n",
       "mean        10.2\n",
       "std         15.3\n",
       "min         -6.0\n",
       "25%          0.0\n",
       "50%          4.0\n",
       "75%         15.0\n",
       "max        179.0\n",
       "Name: waiting_period_days, dtype: float64"
      ]
     },
     "execution_count": 32,
     "metadata": {},
     "output_type": "execute_result"
    }
   ],
   "source": [
    "# statistics of the new column 'waiting_period_days' \n",
    "df['waiting_period_days'].describe()"
   ]
  },
  {
   "cell_type": "code",
   "execution_count": 33,
   "metadata": {},
   "outputs": [
    {
     "data": {
      "text/plain": [
       "waiting_period_days\n",
       "-6          1\n",
       "-1          4\n",
       " 0      38562\n",
       " 1       5213\n",
       " 2       6725\n",
       "        ...  \n",
       " 155       10\n",
       " 162       11\n",
       " 169        8\n",
       " 176       16\n",
       " 179       10\n",
       "Length: 131, dtype: int64"
      ]
     },
     "execution_count": 33,
     "metadata": {},
     "output_type": "execute_result"
    }
   ],
   "source": [
    "# number of appointments according to the waiting period\n",
    "df.groupby('waiting_period_days').size()"
   ]
  },
  {
   "cell_type": "markdown",
   "metadata": {},
   "source": [
    "We can see that two waiting periods are incorrect: -6 days and -1 day. These values insinuate that the appointment registration took place after the actual appointment. Let's drop these rows: "
   ]
  },
  {
   "cell_type": "code",
   "execution_count": 34,
   "metadata": {},
   "outputs": [],
   "source": [
    "# drop rows with a waiting period less than 0 days\n",
    "df.drop(index=df[df['waiting_period_days'] < 0].index, inplace=True)"
   ]
  },
  {
   "cell_type": "code",
   "execution_count": 35,
   "metadata": {},
   "outputs": [
    {
     "data": {
      "text/plain": [
       "waiting_period_days\n",
       "0      38562\n",
       "1       5213\n",
       "2       6725\n",
       "3       2737\n",
       "4       5290\n",
       "       ...  \n",
       "155       10\n",
       "162       11\n",
       "169        8\n",
       "176       16\n",
       "179       10\n",
       "Length: 129, dtype: int64"
      ]
     },
     "execution_count": 35,
     "metadata": {},
     "output_type": "execute_result"
    }
   ],
   "source": [
    "# number of appointments per waiting period after dropping the rows\n",
    "df.groupby('waiting_period_days').size()"
   ]
  },
  {
   "cell_type": "markdown",
   "metadata": {},
   "source": [
    "Another noticeable point is the waiting period of 0 day which counts 38562 appointments. These could represent spontaneous and/or urgent appointments or perhaps even wrong data. As we do not have enough information about this in our dataset, we'll keep the data."
   ]
  },
  {
   "cell_type": "markdown",
   "metadata": {},
   "source": [
    "<a id='Cleaning_sum'></a>\n",
    "#### 2.2.6. Data Cleaning - Summary\n",
    "We did following steps:\n",
    "><br> - Renaming columns to get standardized names.\n",
    "<br> - Dropping a row with inconsistent age value.\n",
    "<br> - Changing the display options for float values to get readable patient identifications.\n",
    "<br> - Replacing 0/1 values with No/Yes values to get more a comprehensible dataset.\n",
    "<br> - Manipulating the columns with date values and adding a new column **waiting_period_days** representing the waiting time in days for an appointment.\n",
    "\n",
    "We can now start to analyse the dataset."
   ]
  },
  {
   "cell_type": "markdown",
   "metadata": {},
   "source": [
    "<a id='eda'></a>\n",
    "## 3. Exploratory Data Analysis\n",
    "First, we'll analyse the main statistics of our dataset. Then, we'll analyse each single factor and their impact on the attendances at appointments. If an influence is detected, we will observe the factor more closely.\n",
    "<a id='main_stat'></a>\n",
    "### 3.1. Main Statistics"
   ]
  },
  {
   "cell_type": "code",
   "execution_count": 36,
   "metadata": {},
   "outputs": [
    {
     "data": {
      "text/plain": [
       "110521"
      ]
     },
     "execution_count": 36,
     "metadata": {},
     "output_type": "execute_result"
    }
   ],
   "source": [
    "# number of appointments in our dataset\n",
    "total = df['appointment_id'].count()\n",
    "total"
   ]
  },
  {
   "cell_type": "code",
   "execution_count": 37,
   "metadata": {},
   "outputs": [
    {
     "data": {
      "text/plain": [
       "(62298, 40045, 22253)"
      ]
     },
     "execution_count": 37,
     "metadata": {},
     "output_type": "execute_result"
    }
   ],
   "source": [
    "# number of patients in our dataset\n",
    "patients = df.groupby('patient_id').size().count()\n",
    "females = df.query('gender == \"F\"').groupby('patient_id').size().count()\n",
    "males = df.query('gender == \"M\"').groupby('patient_id').size().count()\n",
    "patients, females, males"
   ]
  },
  {
   "cell_type": "code",
   "execution_count": 38,
   "metadata": {},
   "outputs": [
    {
     "data": {
      "text/plain": [
       "(35.720247841022186, 64.27975215897781)"
      ]
     },
     "execution_count": 38,
     "metadata": {},
     "output_type": "execute_result"
    }
   ],
   "source": [
    "# percentage of men and women\n",
    "pct_males = males / patients * 100\n",
    "pct_females = females / patients * 100\n",
    "pct_males, pct_females"
   ]
  },
  {
   "cell_type": "markdown",
   "metadata": {},
   "source": [
    "Out dataset contains 110521 appointments of 62298 patients. About 64.3% of the patients are females, 35.7% are males.  \n",
    "  \n",
    "  Let's analyse the number of appointments per patient:"
   ]
  },
  {
   "cell_type": "code",
   "execution_count": 39,
   "metadata": {
    "scrolled": true
   },
   "outputs": [
    {
     "data": {
      "text/plain": [
       "(1.7740697935728273, 1.0)"
      ]
     },
     "execution_count": 39,
     "metadata": {},
     "output_type": "execute_result"
    }
   ],
   "source": [
    "# mean and median number of appointments by patient id\n",
    "df.groupby('patient_id').size().mean(), df.groupby('patient_id').size().median()"
   ]
  },
  {
   "cell_type": "markdown",
   "metadata": {},
   "source": [
    "The mean number of appointements per patient is 1.77.  \n",
    "The median number of appointments per patient is 1.0.  \n",
    "\n",
    "Let's take a look at how many patients have made 50% of all appointments: First we sort all patients by the amount of their appointments (descending order, largest first). Then we cumulate the sums of appointments and select all patients who made the first 50% of all appointments:"
   ]
  },
  {
   "cell_type": "code",
   "execution_count": 40,
   "metadata": {},
   "outputs": [
    {
     "data": {
      "text/plain": [
       "15707"
      ]
     },
     "execution_count": 40,
     "metadata": {},
     "output_type": "execute_result"
    }
   ],
   "source": [
    "# number of patients (sorted by appointment number per patient in a descending order) who made 50% of all appointments\n",
    "patients_cumsum = df.groupby('patient_id').size().sort_values(ascending=False).cumsum()\n",
    "patients_50pct = patients_cumsum[patients_cumsum < (df.shape[0]/2)]\n",
    "patients_50pct.count()"
   ]
  },
  {
   "cell_type": "markdown",
   "metadata": {},
   "source": [
    "15707 of 62298 patients (25.21%) made 50% of all appointments."
   ]
  },
  {
   "cell_type": "markdown",
   "metadata": {},
   "source": [
    "Next, let's separate the attended and unattended appointments. For that, we create two filters: *no_show_up* for all unattended appointments and *show_up* for all attended appointments. We're going to use these filters throughout our analysis."
   ]
  },
  {
   "cell_type": "code",
   "execution_count": 41,
   "metadata": {},
   "outputs": [],
   "source": [
    "no_show_up = df['no_show'] == 'Yes'\n",
    "show_up = df['no_show'] == 'No'"
   ]
  },
  {
   "cell_type": "code",
   "execution_count": 42,
   "metadata": {},
   "outputs": [
    {
     "data": {
      "text/plain": [
       "(88207, 22314)"
      ]
     },
     "execution_count": 42,
     "metadata": {},
     "output_type": "execute_result"
    }
   ],
   "source": [
    "# number of attended and unattended appointments\n",
    "num_show_up = show_up.sum()\n",
    "num_no_show_up = no_show_up.sum()\n",
    "num_show_up, num_no_show_up "
   ]
  },
  {
   "cell_type": "code",
   "execution_count": 43,
   "metadata": {},
   "outputs": [
    {
     "data": {
      "text/plain": [
       "(79.81017182254956, 20.18982817745044)"
      ]
     },
     "execution_count": 43,
     "metadata": {},
     "output_type": "execute_result"
    }
   ],
   "source": [
    "# percentage of attendance and unattendance\n",
    "pct_show_up = num_show_up / total * 100\n",
    "pct_no_show_up = num_no_show_up / total * 100\n",
    "pct_show_up, pct_no_show_up"
   ]
  },
  {
   "cell_type": "markdown",
   "metadata": {},
   "source": [
    "Overall, 79,8 % of the appointments have been attendend whereas 20,2% of the appointments have been missed."
   ]
  },
  {
   "cell_type": "markdown",
   "metadata": {},
   "source": [
    "Now, let's have a look at the period on which the appointments took place:"
   ]
  },
  {
   "cell_type": "code",
   "execution_count": 44,
   "metadata": {},
   "outputs": [
    {
     "data": {
      "text/plain": [
       "(datetime.date(2016, 4, 29), datetime.date(2016, 6, 8))"
      ]
     },
     "execution_count": 44,
     "metadata": {},
     "output_type": "execute_result"
    }
   ],
   "source": [
    "df['appointment_day'].min(), df['appointment_day'].max()"
   ]
  },
  {
   "cell_type": "markdown",
   "metadata": {},
   "source": [
    "All 110521 appointments took place between 29 April 2016 and 8 June 2016.  "
   ]
  },
  {
   "cell_type": "markdown",
   "metadata": {},
   "source": [
    "Summary of the main statistics of the dataset:\n",
    "- There are 110521 appointments in the dataset, made by 62298 patients. About 35.7% are men, 64.3% are women.\n",
    "- The mean number of appointements per patient is 1.77.\n",
    "- About 25.21% of the patients made 50% of all appointments.\n",
    "- 20.2% of the appointments were missed - 79.8% of the patients showed up.\n",
    "- All appointments took place between 29 April 2016 and 8 June 2016. \n",
    "\n",
    "\n",
    "<br> Now that we have a good intuition for the main statistics of our dataset, let's analyse the single factors and their impact on the attendance at the appointments:\n",
    "- gender  \n",
    "- age  \n",
    "- diseases  \n",
    "- scholarship/welfare aid  \n",
    "- sms received\n",
    "- neighbourhood/places of the appointments \n",
    "\n",
    "<br> After analysing all these single factors, we'll analyse trends of:\n",
    " - patients with multiple appointments versus patients with a single appointment\n",
    " - the waiting periods between schedules and appointments\n"
   ]
  },
  {
   "cell_type": "markdown",
   "metadata": {},
   "source": [
    "<a id='gender'></a>\n",
    "### 3.2. Gender\n",
    "We're going to compare the gender of patients who did'nt show up for their appointments and the ones who did show up.  \n",
    "We'll filter our main dataset *df* to create a new one named *df_gender_att*. For that, let's create a function *df_byattendance*, which can also be used later for the other factors:"
   ]
  },
  {
   "cell_type": "code",
   "execution_count": 45,
   "metadata": {},
   "outputs": [],
   "source": [
    "# function 'df_attendance' that returns a concatenation of the series t, su and nsu (will be defined for each factor) \n",
    "# & percentage calculation for each series per attendance status\n",
    "def df_byattendance(t, su, nsu):\n",
    "    x = pd.concat([t.value_counts(), \n",
    "            t.value_counts(normalize=True).mul(100),\n",
    "            su.value_counts(), \n",
    "            su.value_counts(normalize=True).mul(100),\n",
    "            nsu.value_counts(), \n",
    "            nsu.value_counts(normalize=True).mul(100)],axis=1, \n",
    "            keys=('total', 'total_%','show_up','show_up_%', 'no_show_up','no_show_up_%'))\n",
    "    return x"
   ]
  },
  {
   "cell_type": "code",
   "execution_count": 46,
   "metadata": {},
   "outputs": [],
   "source": [
    "# series of the factor 'gender' in total (t), showed up (su) and not showed up (nsu)\n",
    "t = df['gender']\n",
    "su = df[show_up]['gender']\n",
    "nsu = df[no_show_up]['gender']"
   ]
  },
  {
   "cell_type": "code",
   "execution_count": 47,
   "metadata": {},
   "outputs": [
    {
     "data": {
      "text/html": [
       "<div>\n",
       "<style scoped>\n",
       "    .dataframe tbody tr th:only-of-type {\n",
       "        vertical-align: middle;\n",
       "    }\n",
       "\n",
       "    .dataframe tbody tr th {\n",
       "        vertical-align: top;\n",
       "    }\n",
       "\n",
       "    .dataframe thead th {\n",
       "        text-align: right;\n",
       "    }\n",
       "</style>\n",
       "<table border=\"1\" class=\"dataframe\">\n",
       "  <thead>\n",
       "    <tr style=\"text-align: right;\">\n",
       "      <th></th>\n",
       "      <th>total</th>\n",
       "      <th>total_%</th>\n",
       "      <th>show_up</th>\n",
       "      <th>show_up_%</th>\n",
       "      <th>no_show_up</th>\n",
       "      <th>no_show_up_%</th>\n",
       "    </tr>\n",
       "  </thead>\n",
       "  <tbody>\n",
       "    <tr>\n",
       "      <th>F</th>\n",
       "      <td>71836</td>\n",
       "      <td>65.0</td>\n",
       "      <td>57245</td>\n",
       "      <td>64.9</td>\n",
       "      <td>14591</td>\n",
       "      <td>65.4</td>\n",
       "    </tr>\n",
       "    <tr>\n",
       "      <th>M</th>\n",
       "      <td>38685</td>\n",
       "      <td>35.0</td>\n",
       "      <td>30962</td>\n",
       "      <td>35.1</td>\n",
       "      <td>7723</td>\n",
       "      <td>34.6</td>\n",
       "    </tr>\n",
       "  </tbody>\n",
       "</table>\n",
       "</div>"
      ],
      "text/plain": [
       "   total  total_%  show_up  show_up_%  no_show_up  no_show_up_%\n",
       "F  71836     65.0    57245       64.9       14591          65.4\n",
       "M  38685     35.0    30962       35.1        7723          34.6"
      ]
     },
     "execution_count": 47,
     "metadata": {},
     "output_type": "execute_result"
    }
   ],
   "source": [
    "# new dataframe 'df_gender_att' resulting from calling function df_byattendance\n",
    "df_gender_att = df_byattendance(t, su, nsu)\n",
    "df_gender_att"
   ]
  },
  {
   "cell_type": "code",
   "execution_count": 48,
   "metadata": {
    "scrolled": true
   },
   "outputs": [
    {
     "data": {
      "image/png": "[encoded data removed]",
      "text/plain": [
       "<Figure size 576x432 with 1 Axes>"
      ]
     },
     "metadata": {
      "needs_background": "light"
     },
     "output_type": "display_data"
    }
   ],
   "source": [
    "plt.figure(figsize=(8, 6))\n",
    "x_ind = np.arange(len(df_gender_att['show_up_%'])) \n",
    "width = 0.4\n",
    "plt.bar(x_ind, df_gender_att['show_up_%'], width, color='seagreen', edgecolor='black', alpha=0.7, label='% attended')\n",
    "plt.bar(x_ind + width, df_gender_att['no_show_up_%'], width, color='orange', edgecolor='black', alpha=0.7, label='% not attended')\n",
    "labels = ['Female', 'Male']\n",
    "locations = x_ind + width / 2\n",
    "plt.xticks(locations, labels)\n",
    "plt.title('Attendance Comparison by Gender')\n",
    "plt.xlabel('Gender')\n",
    "plt.ylabel('Percentage')\n",
    "plt.tight_layout()\n",
    "plt.legend();"
   ]
  },
  {
   "cell_type": "markdown",
   "metadata": {},
   "source": [
    "In total, 65% of the appointments have been made by females. This dimension is also reflected in the attended appointments, as well as in the unattended appointments where the breakdown similar is.\n",
    "<br>\n",
    "<br>Let's analyse the gender behavior: Do men rather miss their appointment than women?  \n",
    "For that, we're going to create another function, called *df_byfactor* which can also be used later for the other factors:"
   ]
  },
  {
   "cell_type": "code",
   "execution_count": 49,
   "metadata": {},
   "outputs": [],
   "source": [
    "# function 'df_byfactor' that returns a concatenation of the series t, su and nsu (will be defined for each factor) \n",
    "# & percentage calculation for each series per factor characteristic\n",
    "def df_byfactor(t, su, nsu):\n",
    "    x = pd.concat([t.value_counts(), \n",
    "            (t.value_counts() / t.value_counts()).mul(100),\n",
    "            su.value_counts(), \n",
    "            (su.value_counts() / t.value_counts() *100),\n",
    "            nsu.value_counts(), (nsu.value_counts() / t.value_counts() *100) ],\n",
    "            axis=1, keys=('total', 'total_%', 'show_up', 'show_up_%', 'no_show_up', 'no_show_up_%'))\n",
    "    return x"
   ]
  },
  {
   "cell_type": "code",
   "execution_count": 50,
   "metadata": {},
   "outputs": [
    {
     "data": {
      "text/html": [
       "<div>\n",
       "<style scoped>\n",
       "    .dataframe tbody tr th:only-of-type {\n",
       "        vertical-align: middle;\n",
       "    }\n",
       "\n",
       "    .dataframe tbody tr th {\n",
       "        vertical-align: top;\n",
       "    }\n",
       "\n",
       "    .dataframe thead th {\n",
       "        text-align: right;\n",
       "    }\n",
       "</style>\n",
       "<table border=\"1\" class=\"dataframe\">\n",
       "  <thead>\n",
       "    <tr style=\"text-align: right;\">\n",
       "      <th></th>\n",
       "      <th>total</th>\n",
       "      <th>total_%</th>\n",
       "      <th>show_up</th>\n",
       "      <th>show_up_%</th>\n",
       "      <th>no_show_up</th>\n",
       "      <th>no_show_up_%</th>\n",
       "    </tr>\n",
       "  </thead>\n",
       "  <tbody>\n",
       "    <tr>\n",
       "      <th>F</th>\n",
       "      <td>71836</td>\n",
       "      <td>100.0</td>\n",
       "      <td>57245</td>\n",
       "      <td>79.7</td>\n",
       "      <td>14591</td>\n",
       "      <td>20.3</td>\n",
       "    </tr>\n",
       "    <tr>\n",
       "      <th>M</th>\n",
       "      <td>38685</td>\n",
       "      <td>100.0</td>\n",
       "      <td>30962</td>\n",
       "      <td>80.0</td>\n",
       "      <td>7723</td>\n",
       "      <td>20.0</td>\n",
       "    </tr>\n",
       "  </tbody>\n",
       "</table>\n",
       "</div>"
      ],
      "text/plain": [
       "   total  total_%  show_up  show_up_%  no_show_up  no_show_up_%\n",
       "F  71836    100.0    57245       79.7       14591          20.3\n",
       "M  38685    100.0    30962       80.0        7723          20.0"
      ]
     },
     "execution_count": 50,
     "metadata": {},
     "output_type": "execute_result"
    }
   ],
   "source": [
    "# new dataframe 'df_gender_fac' resulting from calling function df_byfactor\n",
    "df_gender_fac = df_byfactor(t, su, nsu)\n",
    "df_gender_fac"
   ]
  },
  {
   "cell_type": "code",
   "execution_count": 51,
   "metadata": {},
   "outputs": [
    {
     "data": {
      "image/png": "[encoded data removed]",
      "text/plain": [
       "<Figure size 576x432 with 1 Axes>"
      ]
     },
     "metadata": {
      "needs_background": "light"
     },
     "output_type": "display_data"
    }
   ],
   "source": [
    "plt.figure(figsize=(8, 6))\n",
    "x_ind = np.arange(len(df_gender_fac['total'])) \n",
    "width = 0.4\n",
    "plt.bar(x_ind, df_gender_fac['no_show_up_%'], width, color='orange', edgecolor='black', alpha=0.7, label='% not attended')\n",
    "locations = x_ind\n",
    "plt.xticks(locations, labels)\n",
    "plt.title('Not Attended Appointments by Gender')\n",
    "plt.axhline(y=pct_no_show_up, color='r', linestyle='-', label='Mean not attended overall')\n",
    "plt.xlabel('Gender')\n",
    "plt.ylabel('Percentage')\n",
    "plt.tight_layout()\n",
    "plt.legend();"
   ]
  },
  {
   "cell_type": "markdown",
   "metadata": {},
   "source": [
    "Men miss their appointments only slightly less often than women. In both cases about 20% of the appointments were not attended."
   ]
  },
  {
   "cell_type": "markdown",
   "metadata": {},
   "source": [
    "<a id='age_'></a>\n",
    "### 3.3. Age\n",
    "Does the age of the patients have an influence on their attendance at appointments?  \n",
    "We'll compare the median and mean ages of our three different groups: all / not attended / attended appointments.  \n",
    "Additionally, we'll take a look at the distribution of the ages and analyse which age has the highest percentage rate of non-attendance."
   ]
  },
  {
   "cell_type": "code",
   "execution_count": 52,
   "metadata": {},
   "outputs": [],
   "source": [
    "# series of the factor 'age' in total (t), showed up (su) and not showed up (nsu)\n",
    "t = df['age']\n",
    "su = df[show_up]['age']\n",
    "nsu = df[no_show_up]['age']"
   ]
  },
  {
   "cell_type": "code",
   "execution_count": 53,
   "metadata": {
    "scrolled": true
   },
   "outputs": [
    {
     "data": {
      "text/plain": [
       "(37.0, 37.08938572759928)"
      ]
     },
     "execution_count": 53,
     "metadata": {},
     "output_type": "execute_result"
    }
   ],
   "source": [
    "# median and mean age of the whole dataset\n",
    "t.median(), t.mean()"
   ]
  },
  {
   "cell_type": "code",
   "execution_count": 54,
   "metadata": {
    "scrolled": true
   },
   "outputs": [
    {
     "data": {
      "text/plain": [
       "(33.0, 34.31787218786412)"
      ]
     },
     "execution_count": 54,
     "metadata": {},
     "output_type": "execute_result"
    }
   ],
   "source": [
    "# median and mean age of the patients who didn't show up to their appointment\n",
    "nsu.median(), nsu.mean()"
   ]
  },
  {
   "cell_type": "code",
   "execution_count": 55,
   "metadata": {
    "scrolled": true
   },
   "outputs": [
    {
     "data": {
      "text/plain": [
       "(38.0, 37.790504154999034)"
      ]
     },
     "execution_count": 55,
     "metadata": {},
     "output_type": "execute_result"
    }
   ],
   "source": [
    "# median and mean age of the patients who did show up to their appointment\n",
    "su.median(), su.mean()"
   ]
  },
  {
   "cell_type": "code",
   "execution_count": 56,
   "metadata": {},
   "outputs": [
    {
     "data": {
      "image/png": "[encoded data removed]",
      "text/plain": [
       "<Figure size 576x432 with 1 Axes>"
      ]
     },
     "metadata": {
      "needs_background": "light"
     },
     "output_type": "display_data"
    }
   ],
   "source": [
    "plt.figure(figsize=(8, 6))\n",
    "x = [su, nsu]\n",
    "bins = [0,10,20,30,40,50,60,70,80,90,100,110,120]\n",
    "plt.hist(x, bins=bins, edgecolor='black', color=('seagreen', 'orange'), label=('attended', 'not attended'), stacked=True, alpha=0.7)\n",
    "plt.axvline(su.median(), color='black', label='Median attended')\n",
    "plt.axvline(nsu.median(), color='red', label='Median not attended')\n",
    "plt.title('Number of Appointments by Age')\n",
    "plt.xlabel('Age')\n",
    "plt.ylabel('Number of Appointments')\n",
    "plt.legend();"
   ]
  },
  {
   "cell_type": "markdown",
   "metadata": {},
   "source": [
    "We can see that both mean and median age of patients who didn't show up for their appointment are lower than in the other groups.  \n",
    "Let's take a closer look at the percentage rate of missed appointments by age. To analyse this, we're going to create a new dataframe *df_age*:"
   ]
  },
  {
   "cell_type": "code",
   "execution_count": 57,
   "metadata": {},
   "outputs": [
    {
     "data": {
      "text/html": [
       "<div>\n",
       "<style scoped>\n",
       "    .dataframe tbody tr th:only-of-type {\n",
       "        vertical-align: middle;\n",
       "    }\n",
       "\n",
       "    .dataframe tbody tr th {\n",
       "        vertical-align: top;\n",
       "    }\n",
       "\n",
       "    .dataframe thead th {\n",
       "        text-align: right;\n",
       "    }\n",
       "</style>\n",
       "<table border=\"1\" class=\"dataframe\">\n",
       "  <thead>\n",
       "    <tr style=\"text-align: right;\">\n",
       "      <th></th>\n",
       "      <th>age</th>\n",
       "      <th>total</th>\n",
       "      <th>total_%</th>\n",
       "      <th>show_up</th>\n",
       "      <th>show_up_%</th>\n",
       "      <th>no_show_up</th>\n",
       "      <th>no_show_up_%</th>\n",
       "    </tr>\n",
       "  </thead>\n",
       "  <tbody>\n",
       "    <tr>\n",
       "      <th>0</th>\n",
       "      <td>0</td>\n",
       "      <td>3539</td>\n",
       "      <td>100.0</td>\n",
       "      <td>2900</td>\n",
       "      <td>81.9</td>\n",
       "      <td>639.0</td>\n",
       "      <td>18.1</td>\n",
       "    </tr>\n",
       "    <tr>\n",
       "      <th>1</th>\n",
       "      <td>1</td>\n",
       "      <td>2273</td>\n",
       "      <td>100.0</td>\n",
       "      <td>1858</td>\n",
       "      <td>81.7</td>\n",
       "      <td>415.0</td>\n",
       "      <td>18.3</td>\n",
       "    </tr>\n",
       "    <tr>\n",
       "      <th>2</th>\n",
       "      <td>2</td>\n",
       "      <td>1618</td>\n",
       "      <td>100.0</td>\n",
       "      <td>1366</td>\n",
       "      <td>84.4</td>\n",
       "      <td>252.0</td>\n",
       "      <td>15.6</td>\n",
       "    </tr>\n",
       "    <tr>\n",
       "      <th>3</th>\n",
       "      <td>3</td>\n",
       "      <td>1513</td>\n",
       "      <td>100.0</td>\n",
       "      <td>1236</td>\n",
       "      <td>81.7</td>\n",
       "      <td>277.0</td>\n",
       "      <td>18.3</td>\n",
       "    </tr>\n",
       "    <tr>\n",
       "      <th>4</th>\n",
       "      <td>4</td>\n",
       "      <td>1299</td>\n",
       "      <td>100.0</td>\n",
       "      <td>1017</td>\n",
       "      <td>78.3</td>\n",
       "      <td>282.0</td>\n",
       "      <td>21.7</td>\n",
       "    </tr>\n",
       "    <tr>\n",
       "      <th>...</th>\n",
       "      <td>...</td>\n",
       "      <td>...</td>\n",
       "      <td>...</td>\n",
       "      <td>...</td>\n",
       "      <td>...</td>\n",
       "      <td>...</td>\n",
       "      <td>...</td>\n",
       "    </tr>\n",
       "    <tr>\n",
       "      <th>98</th>\n",
       "      <td>98</td>\n",
       "      <td>6</td>\n",
       "      <td>100.0</td>\n",
       "      <td>5</td>\n",
       "      <td>83.3</td>\n",
       "      <td>1.0</td>\n",
       "      <td>16.7</td>\n",
       "    </tr>\n",
       "    <tr>\n",
       "      <th>99</th>\n",
       "      <td>99</td>\n",
       "      <td>1</td>\n",
       "      <td>100.0</td>\n",
       "      <td>1</td>\n",
       "      <td>100.0</td>\n",
       "      <td>nan</td>\n",
       "      <td>nan</td>\n",
       "    </tr>\n",
       "    <tr>\n",
       "      <th>100</th>\n",
       "      <td>100</td>\n",
       "      <td>4</td>\n",
       "      <td>100.0</td>\n",
       "      <td>4</td>\n",
       "      <td>100.0</td>\n",
       "      <td>nan</td>\n",
       "      <td>nan</td>\n",
       "    </tr>\n",
       "    <tr>\n",
       "      <th>101</th>\n",
       "      <td>102</td>\n",
       "      <td>2</td>\n",
       "      <td>100.0</td>\n",
       "      <td>2</td>\n",
       "      <td>100.0</td>\n",
       "      <td>nan</td>\n",
       "      <td>nan</td>\n",
       "    </tr>\n",
       "    <tr>\n",
       "      <th>102</th>\n",
       "      <td>115</td>\n",
       "      <td>5</td>\n",
       "      <td>100.0</td>\n",
       "      <td>2</td>\n",
       "      <td>40.0</td>\n",
       "      <td>3.0</td>\n",
       "      <td>60.0</td>\n",
       "    </tr>\n",
       "  </tbody>\n",
       "</table>\n",
       "<p>103 rows × 7 columns</p>\n",
       "</div>"
      ],
      "text/plain": [
       "     age  total  total_%  show_up  show_up_%  no_show_up  no_show_up_%\n",
       "0      0   3539    100.0     2900       81.9       639.0          18.1\n",
       "1      1   2273    100.0     1858       81.7       415.0          18.3\n",
       "2      2   1618    100.0     1366       84.4       252.0          15.6\n",
       "3      3   1513    100.0     1236       81.7       277.0          18.3\n",
       "4      4   1299    100.0     1017       78.3       282.0          21.7\n",
       "..   ...    ...      ...      ...        ...         ...           ...\n",
       "98    98      6    100.0        5       83.3         1.0          16.7\n",
       "99    99      1    100.0        1      100.0         nan           nan\n",
       "100  100      4    100.0        4      100.0         nan           nan\n",
       "101  102      2    100.0        2      100.0         nan           nan\n",
       "102  115      5    100.0        2       40.0         3.0          60.0\n",
       "\n",
       "[103 rows x 7 columns]"
      ]
     },
     "execution_count": 57,
     "metadata": {},
     "output_type": "execute_result"
    }
   ],
   "source": [
    "# new dataframe 'df_age_fac' resulting from calling function df_byfactor\n",
    "df_age_fac = df_byfactor(t, su, nsu)\n",
    "df_age_fac.reset_index(inplace=True) # put the index as column\n",
    "df_age_fac.rename(columns={'index':'age'}, inplace=True) # rename the new column\n",
    "df_age_fac"
   ]
  },
  {
   "cell_type": "markdown",
   "metadata": {},
   "source": [
    "This dataframe *df_age_fac* shows the number of total, attended and unattended appointments by age. Additionaly, we can see the percentage of attendance per age.  \n",
    "Let's group the ages in bins of 10:"
   ]
  },
  {
   "cell_type": "code",
   "execution_count": 58,
   "metadata": {},
   "outputs": [
    {
     "data": {
      "text/html": [
       "<div>\n",
       "<style scoped>\n",
       "    .dataframe tbody tr th:only-of-type {\n",
       "        vertical-align: middle;\n",
       "    }\n",
       "\n",
       "    .dataframe tbody tr th {\n",
       "        vertical-align: top;\n",
       "    }\n",
       "\n",
       "    .dataframe thead th {\n",
       "        text-align: right;\n",
       "    }\n",
       "</style>\n",
       "<table border=\"1\" class=\"dataframe\">\n",
       "  <thead>\n",
       "    <tr style=\"text-align: right;\">\n",
       "      <th></th>\n",
       "      <th>show_up_%</th>\n",
       "      <th>no_show_up_%</th>\n",
       "    </tr>\n",
       "    <tr>\n",
       "      <th>age</th>\n",
       "      <th></th>\n",
       "      <th></th>\n",
       "    </tr>\n",
       "  </thead>\n",
       "  <tbody>\n",
       "    <tr>\n",
       "      <th>(0, 10]</th>\n",
       "      <td>79.0</td>\n",
       "      <td>21.0</td>\n",
       "    </tr>\n",
       "    <tr>\n",
       "      <th>(10, 20]</th>\n",
       "      <td>74.7</td>\n",
       "      <td>25.3</td>\n",
       "    </tr>\n",
       "    <tr>\n",
       "      <th>(20, 30]</th>\n",
       "      <td>75.3</td>\n",
       "      <td>24.7</td>\n",
       "    </tr>\n",
       "    <tr>\n",
       "      <th>(30, 40]</th>\n",
       "      <td>78.5</td>\n",
       "      <td>21.5</td>\n",
       "    </tr>\n",
       "    <tr>\n",
       "      <th>(40, 50]</th>\n",
       "      <td>80.0</td>\n",
       "      <td>20.0</td>\n",
       "    </tr>\n",
       "    <tr>\n",
       "      <th>(50, 60]</th>\n",
       "      <td>82.6</td>\n",
       "      <td>17.4</td>\n",
       "    </tr>\n",
       "    <tr>\n",
       "      <th>(60, 70]</th>\n",
       "      <td>85.3</td>\n",
       "      <td>14.7</td>\n",
       "    </tr>\n",
       "    <tr>\n",
       "      <th>(70, 80]</th>\n",
       "      <td>84.4</td>\n",
       "      <td>15.6</td>\n",
       "    </tr>\n",
       "    <tr>\n",
       "      <th>(80, 90]</th>\n",
       "      <td>84.0</td>\n",
       "      <td>16.0</td>\n",
       "    </tr>\n",
       "    <tr>\n",
       "      <th>(90, 100]</th>\n",
       "      <td>85.4</td>\n",
       "      <td>18.2</td>\n",
       "    </tr>\n",
       "    <tr>\n",
       "      <th>(100, 110]</th>\n",
       "      <td>100.0</td>\n",
       "      <td>nan</td>\n",
       "    </tr>\n",
       "    <tr>\n",
       "      <th>(110, 120]</th>\n",
       "      <td>40.0</td>\n",
       "      <td>60.0</td>\n",
       "    </tr>\n",
       "  </tbody>\n",
       "</table>\n",
       "</div>"
      ],
      "text/plain": [
       "            show_up_%  no_show_up_%\n",
       "age                                \n",
       "(0, 10]          79.0          21.0\n",
       "(10, 20]         74.7          25.3\n",
       "(20, 30]         75.3          24.7\n",
       "(30, 40]         78.5          21.5\n",
       "(40, 50]         80.0          20.0\n",
       "(50, 60]         82.6          17.4\n",
       "(60, 70]         85.3          14.7\n",
       "(70, 80]         84.4          15.6\n",
       "(80, 90]         84.0          16.0\n",
       "(90, 100]        85.4          18.2\n",
       "(100, 110]      100.0           nan\n",
       "(110, 120]       40.0          60.0"
      ]
     },
     "execution_count": 58,
     "metadata": {},
     "output_type": "execute_result"
    }
   ],
   "source": [
    "# dataframe for percentage rate per attendance status, consolidated in age groups\n",
    "df_age_fac = df_age_fac.groupby(pd.cut(df_age_fac['age'], bins)).mean()[['show_up_%', 'no_show_up_%']]\n",
    "df_age_fac"
   ]
  },
  {
   "cell_type": "code",
   "execution_count": 59,
   "metadata": {},
   "outputs": [
    {
     "data": {
      "image/png": "[encoded data removed]",
      "text/plain": [
       "<Figure size 576x432 with 1 Axes>"
      ]
     },
     "metadata": {
      "needs_background": "light"
     },
     "output_type": "display_data"
    }
   ],
   "source": [
    "plt.figure(figsize=(8, 6))\n",
    "x_ind = np.arange(len(df_age_fac['show_up_%'])) \n",
    "width = 0.4\n",
    "labels = df_age_fac.index\n",
    "plt.bar(x_ind, df_age_fac['no_show_up_%'], width, color='orange', edgecolor='black', alpha=0.7, label='% not attended')\n",
    "locations = x_ind\n",
    "plt.axhline(y=pct_no_show_up, color='r', linestyle='-', label='Mean not attended overall')\n",
    "plt.xticks(locations, labels, fontsize=12, rotation=45)\n",
    "plt.title('Not Attended Appointments by Age Groups')\n",
    "plt.xlabel('Age Groups')\n",
    "plt.ylabel('Percentage')\n",
    "plt.tight_layout()\n",
    "plt.legend();"
   ]
  },
  {
   "cell_type": "markdown",
   "metadata": {},
   "source": [
    "We see that especially the age groups 10-20 and 20-30 are above the overall average of non-attendance.  \n",
    "The percentage rate of 60% in the age group 110-120 is very high, but only concerns 5 appointments. Therefore, this age group should not be included in this analysis."
   ]
  },
  {
   "cell_type": "markdown",
   "metadata": {},
   "source": [
    "<a id='diseases'></a>\n",
    "### 3.4. Diseases\n",
    "Does the diseases or disabilities of the patients have an influence on their attendance at appointments?  \n",
    "First, we're going to set up some dataframes for all factors and make a comparison of the non-attendance percentage rates with the overall data of dataset *df*."
   ]
  },
  {
   "cell_type": "code",
   "execution_count": 60,
   "metadata": {},
   "outputs": [],
   "source": [
    "# series of the factors 'Alcoholism', 'Hypertension', 'Diabetes' and 'Handicap' \n",
    "alc = df.query('alcoholism == \"Yes\"')['no_show']\n",
    "diab = df.query('diabetes == \"Yes\"')['no_show']\n",
    "hyp = df.query('hypertension == \"Yes\"')['no_show']\n",
    "hand = df.query('handicap > 0')['no_show']"
   ]
  },
  {
   "cell_type": "code",
   "execution_count": 61,
   "metadata": {},
   "outputs": [],
   "source": [
    "# series of appointements where the patient isn't affected by one of the diseases listed above\n",
    "no_disease = df.query('alcoholism == \"No\" and diabetes == \"No\" and hypertension == \"No\" and handicap == 0')['no_show']"
   ]
  },
  {
   "cell_type": "code",
   "execution_count": 62,
   "metadata": {},
   "outputs": [
    {
     "data": {
      "text/html": [
       "<div>\n",
       "<style scoped>\n",
       "    .dataframe tbody tr th:only-of-type {\n",
       "        vertical-align: middle;\n",
       "    }\n",
       "\n",
       "    .dataframe tbody tr th {\n",
       "        vertical-align: top;\n",
       "    }\n",
       "\n",
       "    .dataframe thead th {\n",
       "        text-align: right;\n",
       "    }\n",
       "</style>\n",
       "<table border=\"1\" class=\"dataframe\">\n",
       "  <thead>\n",
       "    <tr style=\"text-align: right;\">\n",
       "      <th></th>\n",
       "      <th>no_disease_%</th>\n",
       "      <th>alcoholism_%</th>\n",
       "      <th>diabetes_%</th>\n",
       "      <th>hypertension_%</th>\n",
       "      <th>handicap_%</th>\n",
       "    </tr>\n",
       "  </thead>\n",
       "  <tbody>\n",
       "    <tr>\n",
       "      <th>No</th>\n",
       "      <td>79.1</td>\n",
       "      <td>79.9</td>\n",
       "      <td>82.0</td>\n",
       "      <td>82.7</td>\n",
       "      <td>81.9</td>\n",
       "    </tr>\n",
       "    <tr>\n",
       "      <th>Yes</th>\n",
       "      <td>20.9</td>\n",
       "      <td>20.1</td>\n",
       "      <td>18.0</td>\n",
       "      <td>17.3</td>\n",
       "      <td>18.1</td>\n",
       "    </tr>\n",
       "  </tbody>\n",
       "</table>\n",
       "</div>"
      ],
      "text/plain": [
       "     no_disease_%  alcoholism_%  diabetes_%  hypertension_%  handicap_%\n",
       "No           79.1          79.9        82.0            82.7        81.9\n",
       "Yes          20.9          20.1        18.0            17.3        18.1"
      ]
     },
     "execution_count": 62,
     "metadata": {},
     "output_type": "execute_result"
    }
   ],
   "source": [
    "# new dataframe 'df_diseases' with percentage rate comparison of attended and non-attended appointments\n",
    "df_diseases = pd.concat([no_disease.value_counts(normalize=True).mul(100), \n",
    "                 alc.value_counts(normalize=True).mul(100), \n",
    "                 diab.value_counts(normalize=True).mul(100), \n",
    "                 hyp.value_counts(normalize=True).mul(100), \n",
    "                 hand.value_counts(normalize=True).mul(100)], axis=1, \n",
    "                keys=('no_disease_%','alcoholism_%', 'diabetes_%', 'hypertension_%', 'handicap_%'))\n",
    "df_diseases"
   ]
  },
  {
   "cell_type": "code",
   "execution_count": 63,
   "metadata": {},
   "outputs": [
    {
     "data": {
      "image/png": "[encoded data removed]",
      "text/plain": [
       "<Figure size 576x432 with 1 Axes>"
      ]
     },
     "metadata": {
      "needs_background": "light"
     },
     "output_type": "display_data"
    }
   ],
   "source": [
    "plt.figure(figsize=(8, 6))\n",
    "x_ind = np.arange(len(df_diseases['alcoholism_%'])) \n",
    "width = 0.1\n",
    "plt.bar(x_ind, df_diseases['alcoholism_%'], width, color='rosybrown', edgecolor='black', alpha=0.7, label='alcoholism')\n",
    "plt.bar(x_ind + width, df_diseases['diabetes_%'], width, color='orange', edgecolor='black', alpha=0.7, label='diabetes')\n",
    "plt.bar(x_ind + (width*2), df_diseases['hypertension_%'], width, color='silver', edgecolor='black', alpha=0.7, label='hypertension')\n",
    "plt.bar(x_ind + (width*3), df_diseases['handicap_%'], width, color='steelblue', edgecolor='black', alpha=0.7, label='handicap')\n",
    "plt.bar(x_ind + (width*4.5), df_diseases['no_disease_%'], width, color='green', edgecolor='black', linewidth=2, alpha=0.7, label='no disease')\n",
    "labels = ['Yes', 'No']\n",
    "locations = x_ind + width*2\n",
    "plt.xticks(locations, labels)\n",
    "plt.title('Comparison of Appointment Attendance with and without Diseases')\n",
    "plt.xlabel('Did the patient showed up to his appointment?')\n",
    "plt.ylabel('Percentage')\n",
    "plt.tight_layout()\n",
    "plt.legend();"
   ]
  },
  {
   "cell_type": "markdown",
   "metadata": {},
   "source": [
    "In average, patients with diseases and/or disabilities are more likely to come to their appointment than patients without these diseases. Patients with hypertension in particular were only 17.3% of the cases that did not come to their appointment."
   ]
  },
  {
   "cell_type": "markdown",
   "metadata": {},
   "source": [
    "<a id='scholar'></a>\n",
    "### 3.5. Scholarship / Welfare Aid\n",
    "Have the attendances at appointments been influenced by social welfare?  \n",
    "Let's first create a new dataframe for the factor *scholarship* and analyse the percentage rates of non-attended appointments."
   ]
  },
  {
   "cell_type": "code",
   "execution_count": 64,
   "metadata": {},
   "outputs": [],
   "source": [
    "# series of factor'scholarship' in total (t), showed up (su) and not showed up (nsu)\n",
    "t = df['scholarship']\n",
    "su = df[show_up]['scholarship']\n",
    "nsu = df[no_show_up]['scholarship']"
   ]
  },
  {
   "cell_type": "code",
   "execution_count": 65,
   "metadata": {},
   "outputs": [
    {
     "data": {
      "text/html": [
       "<div>\n",
       "<style scoped>\n",
       "    .dataframe tbody tr th:only-of-type {\n",
       "        vertical-align: middle;\n",
       "    }\n",
       "\n",
       "    .dataframe tbody tr th {\n",
       "        vertical-align: top;\n",
       "    }\n",
       "\n",
       "    .dataframe thead th {\n",
       "        text-align: right;\n",
       "    }\n",
       "</style>\n",
       "<table border=\"1\" class=\"dataframe\">\n",
       "  <thead>\n",
       "    <tr style=\"text-align: right;\">\n",
       "      <th></th>\n",
       "      <th>total</th>\n",
       "      <th>total_%</th>\n",
       "      <th>show_up</th>\n",
       "      <th>show_up_%</th>\n",
       "      <th>no_show_up</th>\n",
       "      <th>no_show_up_%</th>\n",
       "    </tr>\n",
       "  </thead>\n",
       "  <tbody>\n",
       "    <tr>\n",
       "      <th>No</th>\n",
       "      <td>99660</td>\n",
       "      <td>90.2</td>\n",
       "      <td>79924</td>\n",
       "      <td>90.6</td>\n",
       "      <td>19736</td>\n",
       "      <td>88.4</td>\n",
       "    </tr>\n",
       "    <tr>\n",
       "      <th>Yes</th>\n",
       "      <td>10861</td>\n",
       "      <td>9.8</td>\n",
       "      <td>8283</td>\n",
       "      <td>9.4</td>\n",
       "      <td>2578</td>\n",
       "      <td>11.6</td>\n",
       "    </tr>\n",
       "  </tbody>\n",
       "</table>\n",
       "</div>"
      ],
      "text/plain": [
       "     total  total_%  show_up  show_up_%  no_show_up  no_show_up_%\n",
       "No   99660     90.2    79924       90.6       19736          88.4\n",
       "Yes  10861      9.8     8283        9.4        2578          11.6"
      ]
     },
     "execution_count": 65,
     "metadata": {},
     "output_type": "execute_result"
    }
   ],
   "source": [
    "# new dataframe 'df_welfare_att' resulting from calling function df_byattendance\n",
    "df_welfare_att = df_byattendance(t, su, nsu)\n",
    "df_welfare_att"
   ]
  },
  {
   "cell_type": "code",
   "execution_count": 66,
   "metadata": {
    "scrolled": true
   },
   "outputs": [
    {
     "data": {
      "image/png": "[encoded data removed]",
      "text/plain": [
       "<Figure size 576x432 with 1 Axes>"
      ]
     },
     "metadata": {
      "needs_background": "light"
     },
     "output_type": "display_data"
    }
   ],
   "source": [
    "plt.figure(figsize=(8, 6))\n",
    "x_ind = np.arange(len(df_welfare_att['show_up_%'])) \n",
    "width = 0.25\n",
    "plt.bar(x_ind, df_welfare_att['show_up_%'], width, color='seagreen', edgecolor='black', alpha=0.7, label='% attended')\n",
    "plt.bar(x_ind + width, df_welfare_att['no_show_up_%'], width, color='orange', edgecolor='black', alpha=0.7, label='% not attended')\n",
    "labels = ['No', 'Yes']\n",
    "locations = x_ind + width / 2\n",
    "plt.xticks(locations, labels)\n",
    "plt.title('Attendance Comparison by Social Welfare')\n",
    "plt.xlabel('Did the patient benefit from social welfare?')\n",
    "plt.ylabel('Percentage')\n",
    "plt.tight_layout()\n",
    "plt.legend();"
   ]
  },
  {
   "cell_type": "markdown",
   "metadata": {},
   "source": [
    "In total, 10861 appointments have been made by patients who benefits from social welfare. This corresponds to 9.8% of all appointments. For appointments that were not attended, the percentage rate of patients with welfare aid is 11.6%. So are patients with welfare aid more likely to miss their appointments?"
   ]
  },
  {
   "cell_type": "code",
   "execution_count": 67,
   "metadata": {},
   "outputs": [
    {
     "data": {
      "text/html": [
       "<div>\n",
       "<style scoped>\n",
       "    .dataframe tbody tr th:only-of-type {\n",
       "        vertical-align: middle;\n",
       "    }\n",
       "\n",
       "    .dataframe tbody tr th {\n",
       "        vertical-align: top;\n",
       "    }\n",
       "\n",
       "    .dataframe thead th {\n",
       "        text-align: right;\n",
       "    }\n",
       "</style>\n",
       "<table border=\"1\" class=\"dataframe\">\n",
       "  <thead>\n",
       "    <tr style=\"text-align: right;\">\n",
       "      <th></th>\n",
       "      <th>total</th>\n",
       "      <th>total_%</th>\n",
       "      <th>show_up</th>\n",
       "      <th>show_up_%</th>\n",
       "      <th>no_show_up</th>\n",
       "      <th>no_show_up_%</th>\n",
       "    </tr>\n",
       "  </thead>\n",
       "  <tbody>\n",
       "    <tr>\n",
       "      <th>No</th>\n",
       "      <td>99660</td>\n",
       "      <td>100.0</td>\n",
       "      <td>79924</td>\n",
       "      <td>80.2</td>\n",
       "      <td>19736</td>\n",
       "      <td>19.8</td>\n",
       "    </tr>\n",
       "    <tr>\n",
       "      <th>Yes</th>\n",
       "      <td>10861</td>\n",
       "      <td>100.0</td>\n",
       "      <td>8283</td>\n",
       "      <td>76.3</td>\n",
       "      <td>2578</td>\n",
       "      <td>23.7</td>\n",
       "    </tr>\n",
       "  </tbody>\n",
       "</table>\n",
       "</div>"
      ],
      "text/plain": [
       "     total  total_%  show_up  show_up_%  no_show_up  no_show_up_%\n",
       "No   99660    100.0    79924       80.2       19736          19.8\n",
       "Yes  10861    100.0     8283       76.3        2578          23.7"
      ]
     },
     "execution_count": 67,
     "metadata": {},
     "output_type": "execute_result"
    }
   ],
   "source": [
    "# new dataframe 'df_welfare_fac' resulting from calling function df_byfactor - appointment status by welfare status\n",
    "df_welfare_fac = df_byfactor(t, su, nsu)\n",
    "df_welfare_fac"
   ]
  },
  {
   "cell_type": "code",
   "execution_count": 68,
   "metadata": {},
   "outputs": [
    {
     "data": {
      "image/png": "[encoded data removed]",
      "text/plain": [
       "<Figure size 576x432 with 1 Axes>"
      ]
     },
     "metadata": {
      "needs_background": "light"
     },
     "output_type": "display_data"
    }
   ],
   "source": [
    "plt.figure(figsize=(8, 6))\n",
    "x_ind = np.arange(len(df_welfare_fac['total'])) \n",
    "width = 0.4\n",
    "plt.bar(x_ind, df_welfare_fac['no_show_up_%'], width, color='orange', edgecolor='black', alpha=0.7, label='% not attended')\n",
    "locations = x_ind\n",
    "plt.xticks(locations, labels)\n",
    "plt.axhline(y=pct_no_show_up, color='r', linestyle='-', label='Mean not attended overall')\n",
    "plt.title('Not Attended Appointments by Social Welfare')\n",
    "plt.xlabel('Did the patient benefit from social welfare?')\n",
    "plt.ylabel('Percentage')\n",
    "plt.tight_layout()\n",
    "plt.legend();"
   ]
  },
  {
   "cell_type": "markdown",
   "metadata": {},
   "source": [
    "We can see here a clear gap between both groups: the non-attendance percentage rate of patients with social welfare is 3.9 percentage points higher than the non-attendance percentage rate of patients without social welfare.  \n",
    "<br>\n",
    "  Let's take a closer look and observe whether the factor age also has an influence in this group."
   ]
  },
  {
   "cell_type": "code",
   "execution_count": 69,
   "metadata": {},
   "outputs": [],
   "source": [
    "# filters for appointments with scholarship (attended and non-attended) by age\n",
    "t = df.query('scholarship == \"Yes\"').groupby('age').size()\n",
    "nsu = df.query('scholarship == \"Yes\"').query('no_show == \"Yes\"').groupby('age').size()\n",
    "su = df.query('scholarship == \"Yes\"').query('no_show == \"No\"').groupby('age').size()"
   ]
  },
  {
   "cell_type": "code",
   "execution_count": 70,
   "metadata": {},
   "outputs": [
    {
     "data": {
      "image/png": "[encoded data removed]",
      "text/plain": [
       "<Figure size 576x432 with 1 Axes>"
      ]
     },
     "metadata": {
      "needs_background": "light"
     },
     "output_type": "display_data"
    }
   ],
   "source": [
    "plt.figure(figsize=(8, 6))\n",
    "plt.scatter(t.index, t, label='total')\n",
    "plt.scatter(su.index, su, c='seagreen', label='attended')\n",
    "plt.scatter(nsu.index, nsu, c='orange', label='not attended')\n",
    "plt.xlabel('Age')\n",
    "plt.ylabel('Number of appointments')\n",
    "plt.title('Appointments of Patients with Social Welfare by Age')\n",
    "plt.legend();"
   ]
  },
  {
   "cell_type": "markdown",
   "metadata": {},
   "source": [
    "The largest gaps between attended and non-attended appointments were found in patients aged around 30 to 50 years. At these ages, patients receiving welfare benefits attend at their appointments more often.  \n",
    "For younger patients (< 30 years old) and older patients (> 50 years old), the factor age has less influence on the attendance."
   ]
  },
  {
   "cell_type": "markdown",
   "metadata": {},
   "source": [
    "<a id='sms'></a>\n",
    "### 3.6. Sms received\n",
    "Were the patients who received a reminder sms more likely to attend their appointment?  \n",
    "To answer this question, we're going to create a new dataframe *df_sms_att* and analyse the percentage rate of non-attendance."
   ]
  },
  {
   "cell_type": "code",
   "execution_count": 71,
   "metadata": {},
   "outputs": [],
   "source": [
    "# series for factor 'sms_received' in total (t), showed up (su) and not showed up (nsu)\n",
    "t = df['sms_received']\n",
    "su = df[show_up]['sms_received']\n",
    "nsu = df[no_show_up]['sms_received']"
   ]
  },
  {
   "cell_type": "code",
   "execution_count": 72,
   "metadata": {},
   "outputs": [
    {
     "data": {
      "text/html": [
       "<div>\n",
       "<style scoped>\n",
       "    .dataframe tbody tr th:only-of-type {\n",
       "        vertical-align: middle;\n",
       "    }\n",
       "\n",
       "    .dataframe tbody tr th {\n",
       "        vertical-align: top;\n",
       "    }\n",
       "\n",
       "    .dataframe thead th {\n",
       "        text-align: right;\n",
       "    }\n",
       "</style>\n",
       "<table border=\"1\" class=\"dataframe\">\n",
       "  <thead>\n",
       "    <tr style=\"text-align: right;\">\n",
       "      <th></th>\n",
       "      <th>total</th>\n",
       "      <th>total_%</th>\n",
       "      <th>show_up</th>\n",
       "      <th>show_up_%</th>\n",
       "      <th>no_show_up</th>\n",
       "      <th>no_show_up_%</th>\n",
       "    </tr>\n",
       "  </thead>\n",
       "  <tbody>\n",
       "    <tr>\n",
       "      <th>0</th>\n",
       "      <td>75039</td>\n",
       "      <td>67.9</td>\n",
       "      <td>62509</td>\n",
       "      <td>70.9</td>\n",
       "      <td>12530</td>\n",
       "      <td>56.2</td>\n",
       "    </tr>\n",
       "    <tr>\n",
       "      <th>1</th>\n",
       "      <td>35482</td>\n",
       "      <td>32.1</td>\n",
       "      <td>25698</td>\n",
       "      <td>29.1</td>\n",
       "      <td>9784</td>\n",
       "      <td>43.8</td>\n",
       "    </tr>\n",
       "  </tbody>\n",
       "</table>\n",
       "</div>"
      ],
      "text/plain": [
       "   total  total_%  show_up  show_up_%  no_show_up  no_show_up_%\n",
       "0  75039     67.9    62509       70.9       12530          56.2\n",
       "1  35482     32.1    25698       29.1        9784          43.8"
      ]
     },
     "execution_count": 72,
     "metadata": {},
     "output_type": "execute_result"
    }
   ],
   "source": [
    "# new dataframe 'df_sms_att' resulting from calling function df_byattendance\n",
    "df_sms_att = df_byattendance(t, su, nsu)\n",
    "df_sms_att"
   ]
  },
  {
   "cell_type": "code",
   "execution_count": 73,
   "metadata": {},
   "outputs": [
    {
     "data": {
      "image/png": "[encoded data removed]",
      "text/plain": [
       "<Figure size 576x432 with 1 Axes>"
      ]
     },
     "metadata": {
      "needs_background": "light"
     },
     "output_type": "display_data"
    }
   ],
   "source": [
    "plt.figure(figsize=(8, 6))\n",
    "x_ind = np.arange(len(df_sms_att['show_up_%'])) \n",
    "width = 0.25\n",
    "plt.bar(x_ind, df_sms_att['show_up_%'], width, color='seagreen', edgecolor='black', alpha=0.7, label='% attended')\n",
    "plt.bar(x_ind + width, df_sms_att['no_show_up_%'], width, color='orange', edgecolor='black', alpha=0.7, label='% not attended')\n",
    "labels = ['No', 'Yes']\n",
    "locations = x_ind + width / 2\n",
    "plt.xticks(locations, labels)\n",
    "plt.xlabel('Did the patient receive a sms?')\n",
    "plt.ylabel('Percentage')\n",
    "plt.tight_layout()\n",
    "plt.legend();"
   ]
  },
  {
   "cell_type": "markdown",
   "metadata": {},
   "source": [
    "32.1% of all appointments have been reminded by sms. The percentage rate of missed appointments that were reminded by sms is noticeably higher: 43.8%.  \n",
    "So were patients who received a sms more likely to miss their appointment?"
   ]
  },
  {
   "cell_type": "code",
   "execution_count": 74,
   "metadata": {},
   "outputs": [
    {
     "data": {
      "text/html": [
       "<div>\n",
       "<style scoped>\n",
       "    .dataframe tbody tr th:only-of-type {\n",
       "        vertical-align: middle;\n",
       "    }\n",
       "\n",
       "    .dataframe tbody tr th {\n",
       "        vertical-align: top;\n",
       "    }\n",
       "\n",
       "    .dataframe thead th {\n",
       "        text-align: right;\n",
       "    }\n",
       "</style>\n",
       "<table border=\"1\" class=\"dataframe\">\n",
       "  <thead>\n",
       "    <tr style=\"text-align: right;\">\n",
       "      <th></th>\n",
       "      <th>total</th>\n",
       "      <th>total_%</th>\n",
       "      <th>show_up</th>\n",
       "      <th>show_up_%</th>\n",
       "      <th>no_show_up</th>\n",
       "      <th>no_show_up_%</th>\n",
       "    </tr>\n",
       "  </thead>\n",
       "  <tbody>\n",
       "    <tr>\n",
       "      <th>0</th>\n",
       "      <td>75039</td>\n",
       "      <td>100.0</td>\n",
       "      <td>62509</td>\n",
       "      <td>83.3</td>\n",
       "      <td>12530</td>\n",
       "      <td>16.7</td>\n",
       "    </tr>\n",
       "    <tr>\n",
       "      <th>1</th>\n",
       "      <td>35482</td>\n",
       "      <td>100.0</td>\n",
       "      <td>25698</td>\n",
       "      <td>72.4</td>\n",
       "      <td>9784</td>\n",
       "      <td>27.6</td>\n",
       "    </tr>\n",
       "  </tbody>\n",
       "</table>\n",
       "</div>"
      ],
      "text/plain": [
       "   total  total_%  show_up  show_up_%  no_show_up  no_show_up_%\n",
       "0  75039    100.0    62509       83.3       12530          16.7\n",
       "1  35482    100.0    25698       72.4        9784          27.6"
      ]
     },
     "execution_count": 74,
     "metadata": {},
     "output_type": "execute_result"
    }
   ],
   "source": [
    "# new dataframe 'df_sms_fac' resulting from calling function df_byfactor - missed appointments by sms status\n",
    "df_sms_fac = df_byfactor(t, su, nsu)\n",
    "df_sms_fac"
   ]
  },
  {
   "cell_type": "code",
   "execution_count": 75,
   "metadata": {},
   "outputs": [
    {
     "data": {
      "image/png": "[encoded data removed]",
      "text/plain": [
       "<Figure size 576x432 with 1 Axes>"
      ]
     },
     "metadata": {
      "needs_background": "light"
     },
     "output_type": "display_data"
    }
   ],
   "source": [
    "plt.figure(figsize=(8, 6))\n",
    "x_ind = np.arange(len(df_sms_fac['total'])) \n",
    "width = 0.4\n",
    "plt.bar(x_ind, df_sms_fac['no_show_up_%'], width, color='orange', edgecolor='black', alpha=0.7, label='% not attended')\n",
    "locations = x_ind\n",
    "plt.xticks(locations, labels)\n",
    "plt.axhline(y=pct_no_show_up, color='r', linestyle='-', label='Mean not attended overall')\n",
    "plt.title('Not Attended Appointments by Reception of Sms')\n",
    "plt.xlabel('Did the patient received a sms?')\n",
    "plt.ylabel('Percentage')\n",
    "plt.tight_layout()\n",
    "plt.legend();"
   ]
  },
  {
   "cell_type": "markdown",
   "metadata": {},
   "source": [
    "About 28% of the patients who received a sms didn't show up to their appointments. This is a big contrast to the 16.7% of patients who also didn't show up but didn't received a sms.  \n",
    "Let's make another observation about this factor: Did the age of the patients also have an influence on the attendance?"
   ]
  },
  {
   "cell_type": "code",
   "execution_count": 76,
   "metadata": {},
   "outputs": [],
   "source": [
    "# filters for appointments with sms (attended and non-attended) by age\n",
    "t = df.query('sms_received > 0').groupby('age').size()\n",
    "nsu = df.query('sms_received > 0').query('no_show == \"Yes\"').groupby('age').size()\n",
    "su = df.query('sms_received > 0').query('no_show == \"No\"').groupby('age').size()"
   ]
  },
  {
   "cell_type": "code",
   "execution_count": 77,
   "metadata": {},
   "outputs": [
    {
     "data": {
      "image/png": "[encoded data removed]",
      "text/plain": [
       "<Figure size 576x432 with 1 Axes>"
      ]
     },
     "metadata": {
      "needs_background": "light"
     },
     "output_type": "display_data"
    }
   ],
   "source": [
    "plt.figure(figsize=(8, 6))\n",
    "plt.scatter(t.index, t, label='total')\n",
    "plt.scatter(su.index, su, c='seagreen', label='attended')\n",
    "plt.scatter(nsu.index, nsu, c='orange', label='not attended')\n",
    "plt.xlabel('Age')\n",
    "plt.ylabel('Number of appointments')\n",
    "plt.title('Appointments with Sms by Age')\n",
    "plt.legend();"
   ]
  },
  {
   "cell_type": "markdown",
   "metadata": {},
   "source": [
    "We can see, that patients who have received a sms are more likely to attend at their appointment if they are between 50 and 70 years old.  \n",
    "The receipt of a sms has a quite small influence on the attendance when patients are around 15 to 25 years old.  "
   ]
  },
  {
   "cell_type": "markdown",
   "metadata": {},
   "source": [
    "<a id='neigh'></a>\n",
    "### 3.7. Neighbourhood\n",
    "Let's take a closer look to the locations where the appointments took place. Did the location have an impact on the attendance at the appointments?"
   ]
  },
  {
   "cell_type": "code",
   "execution_count": 78,
   "metadata": {},
   "outputs": [
    {
     "data": {
      "text/plain": [
       "JARDIM CAMBURI                 7717\n",
       "MARIA ORTIZ                    5805\n",
       "RESISTÊNCIA                    4430\n",
       "JARDIM DA PENHA                3877\n",
       "ITARARÉ                        3514\n",
       "                               ... \n",
       "ILHA DO BOI                      35\n",
       "ILHA DO FRADE                    10\n",
       "AEROPORTO                         8\n",
       "ILHAS OCEÂNICAS DE TRINDADE       2\n",
       "PARQUE INDUSTRIAL                 1\n",
       "Name: neighbourhood, Length: 81, dtype: int64"
      ]
     },
     "execution_count": 78,
     "metadata": {},
     "output_type": "execute_result"
    }
   ],
   "source": [
    "# number of locations where appointments took place\n",
    "df['neighbourhood'].value_counts()"
   ]
  },
  {
   "cell_type": "code",
   "execution_count": 79,
   "metadata": {},
   "outputs": [
    {
     "data": {
      "text/plain": [
       "1364.4567901234568"
      ]
     },
     "execution_count": 79,
     "metadata": {},
     "output_type": "execute_result"
    }
   ],
   "source": [
    "# mean number of appointments for each location\n",
    "df['neighbourhood'].value_counts().mean()"
   ]
  },
  {
   "cell_type": "markdown",
   "metadata": {},
   "source": [
    "In total there were 81 locations. The average number of appointments for each location is 1364. As the number of locations is quite high, we'll concentrate on the 15 locations with the largest number of appointments."
   ]
  },
  {
   "cell_type": "code",
   "execution_count": 80,
   "metadata": {},
   "outputs": [
    {
     "data": {
      "text/plain": [
       "(53402, 48.318419123967395)"
      ]
     },
     "execution_count": 80,
     "metadata": {},
     "output_type": "execute_result"
    }
   ],
   "source": [
    "places = df['neighbourhood'].value_counts().nlargest(15)\n",
    "places.sum(), places.sum()/total*100"
   ]
  },
  {
   "cell_type": "markdown",
   "metadata": {},
   "source": [
    "The 15 largest locations represent about 48% of all appointments."
   ]
  },
  {
   "cell_type": "code",
   "execution_count": 81,
   "metadata": {},
   "outputs": [
    {
     "data": {
      "image/png": "[encoded data removed]",
      "text/plain": [
       "<Figure size 576x432 with 1 Axes>"
      ]
     },
     "metadata": {
      "needs_background": "light"
     },
     "output_type": "display_data"
    }
   ],
   "source": [
    "# exploratory plot of the 15 largest locations\n",
    "places.plot(kind='bar', color='indianred', figsize=(8,6));"
   ]
  },
  {
   "cell_type": "markdown",
   "metadata": {},
   "source": [
    "This visualization shows the 15 largest locations in term of number of appointments. These places will be the basis of our analysis."
   ]
  },
  {
   "cell_type": "code",
   "execution_count": 82,
   "metadata": {},
   "outputs": [
    {
     "data": {
      "text/html": [
       "<div>\n",
       "<style scoped>\n",
       "    .dataframe tbody tr th:only-of-type {\n",
       "        vertical-align: middle;\n",
       "    }\n",
       "\n",
       "    .dataframe tbody tr th {\n",
       "        vertical-align: top;\n",
       "    }\n",
       "\n",
       "    .dataframe thead th {\n",
       "        text-align: right;\n",
       "    }\n",
       "</style>\n",
       "<table border=\"1\" class=\"dataframe\">\n",
       "  <thead>\n",
       "    <tr style=\"text-align: right;\">\n",
       "      <th></th>\n",
       "      <th>patient_id</th>\n",
       "      <th>appointment_id</th>\n",
       "      <th>gender</th>\n",
       "      <th>scheduled_day</th>\n",
       "      <th>appointment_day</th>\n",
       "      <th>age</th>\n",
       "      <th>neighbourhood</th>\n",
       "      <th>scholarship</th>\n",
       "      <th>hypertension</th>\n",
       "      <th>diabetes</th>\n",
       "      <th>alcoholism</th>\n",
       "      <th>handicap</th>\n",
       "      <th>sms_received</th>\n",
       "      <th>no_show</th>\n",
       "      <th>waiting_period_days</th>\n",
       "    </tr>\n",
       "  </thead>\n",
       "  <tbody>\n",
       "    <tr>\n",
       "      <th>0</th>\n",
       "      <td>29872499824296.0</td>\n",
       "      <td>5642903</td>\n",
       "      <td>F</td>\n",
       "      <td>2016-04-29</td>\n",
       "      <td>2016-04-29</td>\n",
       "      <td>62</td>\n",
       "      <td>JARDIM DA PENHA</td>\n",
       "      <td>No</td>\n",
       "      <td>Yes</td>\n",
       "      <td>No</td>\n",
       "      <td>No</td>\n",
       "      <td>0</td>\n",
       "      <td>0</td>\n",
       "      <td>No</td>\n",
       "      <td>0</td>\n",
       "    </tr>\n",
       "    <tr>\n",
       "      <th>1</th>\n",
       "      <td>558997776694438.0</td>\n",
       "      <td>5642503</td>\n",
       "      <td>M</td>\n",
       "      <td>2016-04-29</td>\n",
       "      <td>2016-04-29</td>\n",
       "      <td>56</td>\n",
       "      <td>JARDIM DA PENHA</td>\n",
       "      <td>No</td>\n",
       "      <td>No</td>\n",
       "      <td>No</td>\n",
       "      <td>No</td>\n",
       "      <td>0</td>\n",
       "      <td>0</td>\n",
       "      <td>No</td>\n",
       "      <td>0</td>\n",
       "    </tr>\n",
       "    <tr>\n",
       "      <th>4</th>\n",
       "      <td>8841186448183.0</td>\n",
       "      <td>5642494</td>\n",
       "      <td>F</td>\n",
       "      <td>2016-04-29</td>\n",
       "      <td>2016-04-29</td>\n",
       "      <td>56</td>\n",
       "      <td>JARDIM DA PENHA</td>\n",
       "      <td>No</td>\n",
       "      <td>Yes</td>\n",
       "      <td>Yes</td>\n",
       "      <td>No</td>\n",
       "      <td>0</td>\n",
       "      <td>0</td>\n",
       "      <td>No</td>\n",
       "      <td>0</td>\n",
       "    </tr>\n",
       "    <tr>\n",
       "      <th>24</th>\n",
       "      <td>8734857996885.0</td>\n",
       "      <td>5641780</td>\n",
       "      <td>F</td>\n",
       "      <td>2016-04-29</td>\n",
       "      <td>2016-04-29</td>\n",
       "      <td>65</td>\n",
       "      <td>TABUAZEIRO</td>\n",
       "      <td>No</td>\n",
       "      <td>No</td>\n",
       "      <td>No</td>\n",
       "      <td>No</td>\n",
       "      <td>0</td>\n",
       "      <td>0</td>\n",
       "      <td>No</td>\n",
       "      <td>0</td>\n",
       "    </tr>\n",
       "    <tr>\n",
       "      <th>28</th>\n",
       "      <td>5926171692527.0</td>\n",
       "      <td>5642400</td>\n",
       "      <td>M</td>\n",
       "      <td>2016-04-29</td>\n",
       "      <td>2016-04-29</td>\n",
       "      <td>51</td>\n",
       "      <td>SÃO PEDRO</td>\n",
       "      <td>No</td>\n",
       "      <td>No</td>\n",
       "      <td>No</td>\n",
       "      <td>No</td>\n",
       "      <td>0</td>\n",
       "      <td>0</td>\n",
       "      <td>No</td>\n",
       "      <td>0</td>\n",
       "    </tr>\n",
       "    <tr>\n",
       "      <th>...</th>\n",
       "      <td>...</td>\n",
       "      <td>...</td>\n",
       "      <td>...</td>\n",
       "      <td>...</td>\n",
       "      <td>...</td>\n",
       "      <td>...</td>\n",
       "      <td>...</td>\n",
       "      <td>...</td>\n",
       "      <td>...</td>\n",
       "      <td>...</td>\n",
       "      <td>...</td>\n",
       "      <td>...</td>\n",
       "      <td>...</td>\n",
       "      <td>...</td>\n",
       "      <td>...</td>\n",
       "    </tr>\n",
       "    <tr>\n",
       "      <th>110522</th>\n",
       "      <td>2572134369293.0</td>\n",
       "      <td>5651768</td>\n",
       "      <td>F</td>\n",
       "      <td>2016-05-03</td>\n",
       "      <td>2016-06-07</td>\n",
       "      <td>56</td>\n",
       "      <td>MARIA ORTIZ</td>\n",
       "      <td>No</td>\n",
       "      <td>No</td>\n",
       "      <td>No</td>\n",
       "      <td>No</td>\n",
       "      <td>0</td>\n",
       "      <td>1</td>\n",
       "      <td>No</td>\n",
       "      <td>35</td>\n",
       "    </tr>\n",
       "    <tr>\n",
       "      <th>110523</th>\n",
       "      <td>3596266328735.0</td>\n",
       "      <td>5650093</td>\n",
       "      <td>F</td>\n",
       "      <td>2016-05-03</td>\n",
       "      <td>2016-06-07</td>\n",
       "      <td>51</td>\n",
       "      <td>MARIA ORTIZ</td>\n",
       "      <td>No</td>\n",
       "      <td>No</td>\n",
       "      <td>No</td>\n",
       "      <td>No</td>\n",
       "      <td>0</td>\n",
       "      <td>1</td>\n",
       "      <td>No</td>\n",
       "      <td>35</td>\n",
       "    </tr>\n",
       "    <tr>\n",
       "      <th>110524</th>\n",
       "      <td>15576631729893.0</td>\n",
       "      <td>5630692</td>\n",
       "      <td>F</td>\n",
       "      <td>2016-04-27</td>\n",
       "      <td>2016-06-07</td>\n",
       "      <td>21</td>\n",
       "      <td>MARIA ORTIZ</td>\n",
       "      <td>No</td>\n",
       "      <td>No</td>\n",
       "      <td>No</td>\n",
       "      <td>No</td>\n",
       "      <td>0</td>\n",
       "      <td>1</td>\n",
       "      <td>No</td>\n",
       "      <td>41</td>\n",
       "    </tr>\n",
       "    <tr>\n",
       "      <th>110525</th>\n",
       "      <td>92134931435557.0</td>\n",
       "      <td>5630323</td>\n",
       "      <td>F</td>\n",
       "      <td>2016-04-27</td>\n",
       "      <td>2016-06-07</td>\n",
       "      <td>38</td>\n",
       "      <td>MARIA ORTIZ</td>\n",
       "      <td>No</td>\n",
       "      <td>No</td>\n",
       "      <td>No</td>\n",
       "      <td>No</td>\n",
       "      <td>0</td>\n",
       "      <td>1</td>\n",
       "      <td>No</td>\n",
       "      <td>41</td>\n",
       "    </tr>\n",
       "    <tr>\n",
       "      <th>110526</th>\n",
       "      <td>377511518121127.0</td>\n",
       "      <td>5629448</td>\n",
       "      <td>F</td>\n",
       "      <td>2016-04-27</td>\n",
       "      <td>2016-06-07</td>\n",
       "      <td>54</td>\n",
       "      <td>MARIA ORTIZ</td>\n",
       "      <td>No</td>\n",
       "      <td>No</td>\n",
       "      <td>No</td>\n",
       "      <td>No</td>\n",
       "      <td>0</td>\n",
       "      <td>1</td>\n",
       "      <td>No</td>\n",
       "      <td>41</td>\n",
       "    </tr>\n",
       "  </tbody>\n",
       "</table>\n",
       "<p>53402 rows × 15 columns</p>\n",
       "</div>"
      ],
      "text/plain": [
       "              patient_id  appointment_id gender scheduled_day appointment_day  \\\n",
       "0       29872499824296.0         5642903      F    2016-04-29      2016-04-29   \n",
       "1      558997776694438.0         5642503      M    2016-04-29      2016-04-29   \n",
       "4        8841186448183.0         5642494      F    2016-04-29      2016-04-29   \n",
       "24       8734857996885.0         5641780      F    2016-04-29      2016-04-29   \n",
       "28       5926171692527.0         5642400      M    2016-04-29      2016-04-29   \n",
       "...                  ...             ...    ...           ...             ...   \n",
       "110522   2572134369293.0         5651768      F    2016-05-03      2016-06-07   \n",
       "110523   3596266328735.0         5650093      F    2016-05-03      2016-06-07   \n",
       "110524  15576631729893.0         5630692      F    2016-04-27      2016-06-07   \n",
       "110525  92134931435557.0         5630323      F    2016-04-27      2016-06-07   \n",
       "110526 377511518121127.0         5629448      F    2016-04-27      2016-06-07   \n",
       "\n",
       "        age    neighbourhood scholarship hypertension diabetes alcoholism  \\\n",
       "0        62  JARDIM DA PENHA          No          Yes       No         No   \n",
       "1        56  JARDIM DA PENHA          No           No       No         No   \n",
       "4        56  JARDIM DA PENHA          No          Yes      Yes         No   \n",
       "24       65       TABUAZEIRO          No           No       No         No   \n",
       "28       51        SÃO PEDRO          No           No       No         No   \n",
       "...     ...              ...         ...          ...      ...        ...   \n",
       "110522   56      MARIA ORTIZ          No           No       No         No   \n",
       "110523   51      MARIA ORTIZ          No           No       No         No   \n",
       "110524   21      MARIA ORTIZ          No           No       No         No   \n",
       "110525   38      MARIA ORTIZ          No           No       No         No   \n",
       "110526   54      MARIA ORTIZ          No           No       No         No   \n",
       "\n",
       "        handicap  sms_received no_show  waiting_period_days  \n",
       "0              0             0      No                    0  \n",
       "1              0             0      No                    0  \n",
       "4              0             0      No                    0  \n",
       "24             0             0      No                    0  \n",
       "28             0             0      No                    0  \n",
       "...          ...           ...     ...                  ...  \n",
       "110522         0             1      No                   35  \n",
       "110523         0             1      No                   35  \n",
       "110524         0             1      No                   41  \n",
       "110525         0             1      No                   41  \n",
       "110526         0             1      No                   41  \n",
       "\n",
       "[53402 rows x 15 columns]"
      ]
     },
     "execution_count": 82,
     "metadata": {},
     "output_type": "execute_result"
    }
   ],
   "source": [
    "# dataframe of all appointments that took place in one of the 15 selected locations\n",
    "places_names = places.keys() # selection of the names of the 15 locations\n",
    "df_locations = df[df['neighbourhood'].isin(places_names)]\n",
    "df_locations"
   ]
  },
  {
   "cell_type": "code",
   "execution_count": 83,
   "metadata": {},
   "outputs": [],
   "source": [
    "# series resulting from queries - needed for the next step\n",
    "nbh_all = df_locations.groupby('neighbourhood').size()\n",
    "nbh_nsu = df_locations.query('no_show == \"Yes\"').groupby('neighbourhood').size()\n",
    "nbh_su = df_locations.query('no_show == \"No\"').groupby('neighbourhood').size()"
   ]
  },
  {
   "cell_type": "code",
   "execution_count": 84,
   "metadata": {
    "scrolled": true
   },
   "outputs": [
    {
     "data": {
      "text/html": [
       "<div>\n",
       "<style scoped>\n",
       "    .dataframe tbody tr th:only-of-type {\n",
       "        vertical-align: middle;\n",
       "    }\n",
       "\n",
       "    .dataframe tbody tr th {\n",
       "        vertical-align: top;\n",
       "    }\n",
       "\n",
       "    .dataframe thead th {\n",
       "        text-align: right;\n",
       "    }\n",
       "</style>\n",
       "<table border=\"1\" class=\"dataframe\">\n",
       "  <thead>\n",
       "    <tr style=\"text-align: right;\">\n",
       "      <th></th>\n",
       "      <th>total</th>\n",
       "      <th>su</th>\n",
       "      <th>nsu</th>\n",
       "      <th>su_%</th>\n",
       "      <th>nsu_%</th>\n",
       "    </tr>\n",
       "    <tr>\n",
       "      <th>neighbourhood</th>\n",
       "      <th></th>\n",
       "      <th></th>\n",
       "      <th></th>\n",
       "      <th></th>\n",
       "      <th></th>\n",
       "    </tr>\n",
       "  </thead>\n",
       "  <tbody>\n",
       "    <tr>\n",
       "      <th>ITARARÉ</th>\n",
       "      <td>3514</td>\n",
       "      <td>2591</td>\n",
       "      <td>923</td>\n",
       "      <td>73.7</td>\n",
       "      <td>26.3</td>\n",
       "    </tr>\n",
       "    <tr>\n",
       "      <th>JESUS DE NAZARETH</th>\n",
       "      <td>2853</td>\n",
       "      <td>2157</td>\n",
       "      <td>696</td>\n",
       "      <td>75.6</td>\n",
       "      <td>24.4</td>\n",
       "    </tr>\n",
       "    <tr>\n",
       "      <th>CARATOÍRA</th>\n",
       "      <td>2565</td>\n",
       "      <td>1974</td>\n",
       "      <td>591</td>\n",
       "      <td>77.0</td>\n",
       "      <td>23.0</td>\n",
       "    </tr>\n",
       "    <tr>\n",
       "      <th>CENTRO</th>\n",
       "      <td>3334</td>\n",
       "      <td>2631</td>\n",
       "      <td>703</td>\n",
       "      <td>78.9</td>\n",
       "      <td>21.1</td>\n",
       "    </tr>\n",
       "    <tr>\n",
       "      <th>SÃO PEDRO</th>\n",
       "      <td>2448</td>\n",
       "      <td>1933</td>\n",
       "      <td>515</td>\n",
       "      <td>79.0</td>\n",
       "      <td>21.0</td>\n",
       "    </tr>\n",
       "    <tr>\n",
       "      <th>MARIA ORTIZ</th>\n",
       "      <td>5805</td>\n",
       "      <td>4586</td>\n",
       "      <td>1219</td>\n",
       "      <td>79.0</td>\n",
       "      <td>21.0</td>\n",
       "    </tr>\n",
       "    <tr>\n",
       "      <th>RESISTÊNCIA</th>\n",
       "      <td>4430</td>\n",
       "      <td>3525</td>\n",
       "      <td>905</td>\n",
       "      <td>79.6</td>\n",
       "      <td>20.4</td>\n",
       "    </tr>\n",
       "    <tr>\n",
       "      <th>BONFIM</th>\n",
       "      <td>2773</td>\n",
       "      <td>2223</td>\n",
       "      <td>550</td>\n",
       "      <td>80.2</td>\n",
       "      <td>19.8</td>\n",
       "    </tr>\n",
       "    <tr>\n",
       "      <th>SANTO ANDRÉ</th>\n",
       "      <td>2571</td>\n",
       "      <td>2063</td>\n",
       "      <td>508</td>\n",
       "      <td>80.2</td>\n",
       "      <td>19.8</td>\n",
       "    </tr>\n",
       "    <tr>\n",
       "      <th>JARDIM CAMBURI</th>\n",
       "      <td>7717</td>\n",
       "      <td>6252</td>\n",
       "      <td>1465</td>\n",
       "      <td>81.0</td>\n",
       "      <td>19.0</td>\n",
       "    </tr>\n",
       "    <tr>\n",
       "      <th>TABUAZEIRO</th>\n",
       "      <td>3131</td>\n",
       "      <td>2559</td>\n",
       "      <td>572</td>\n",
       "      <td>81.7</td>\n",
       "      <td>18.3</td>\n",
       "    </tr>\n",
       "    <tr>\n",
       "      <th>JABOUR</th>\n",
       "      <td>2509</td>\n",
       "      <td>2058</td>\n",
       "      <td>451</td>\n",
       "      <td>82.0</td>\n",
       "      <td>18.0</td>\n",
       "    </tr>\n",
       "    <tr>\n",
       "      <th>SANTO ANTÔNIO</th>\n",
       "      <td>2744</td>\n",
       "      <td>2262</td>\n",
       "      <td>482</td>\n",
       "      <td>82.4</td>\n",
       "      <td>17.6</td>\n",
       "    </tr>\n",
       "    <tr>\n",
       "      <th>JARDIM DA PENHA</th>\n",
       "      <td>3877</td>\n",
       "      <td>3246</td>\n",
       "      <td>631</td>\n",
       "      <td>83.7</td>\n",
       "      <td>16.3</td>\n",
       "    </tr>\n",
       "    <tr>\n",
       "      <th>SANTA MARTHA</th>\n",
       "      <td>3131</td>\n",
       "      <td>2635</td>\n",
       "      <td>496</td>\n",
       "      <td>84.2</td>\n",
       "      <td>15.8</td>\n",
       "    </tr>\n",
       "  </tbody>\n",
       "</table>\n",
       "</div>"
      ],
      "text/plain": [
       "                   total    su   nsu  su_%  nsu_%\n",
       "neighbourhood                                    \n",
       "ITARARÉ             3514  2591   923  73.7   26.3\n",
       "JESUS DE NAZARETH   2853  2157   696  75.6   24.4\n",
       "CARATOÍRA           2565  1974   591  77.0   23.0\n",
       "CENTRO              3334  2631   703  78.9   21.1\n",
       "SÃO PEDRO           2448  1933   515  79.0   21.0\n",
       "MARIA ORTIZ         5805  4586  1219  79.0   21.0\n",
       "RESISTÊNCIA         4430  3525   905  79.6   20.4\n",
       "BONFIM              2773  2223   550  80.2   19.8\n",
       "SANTO ANDRÉ         2571  2063   508  80.2   19.8\n",
       "JARDIM CAMBURI      7717  6252  1465  81.0   19.0\n",
       "TABUAZEIRO          3131  2559   572  81.7   18.3\n",
       "JABOUR              2509  2058   451  82.0   18.0\n",
       "SANTO ANTÔNIO       2744  2262   482  82.4   17.6\n",
       "JARDIM DA PENHA     3877  3246   631  83.7   16.3\n",
       "SANTA MARTHA        3131  2635   496  84.2   15.8"
      ]
     },
     "execution_count": 84,
     "metadata": {},
     "output_type": "execute_result"
    }
   ],
   "source": [
    "# new dataframe 'neighb' which contains number of apointments and percentage comparison per factor location\n",
    "neighb = pd.concat([nbh_all, nbh_su, nbh_nsu], axis=1, keys=['total', 'su', 'nsu'])\n",
    "neighb['su_%'] = neighb['su'] / neighb['total'] * 100\n",
    "neighb['nsu_%'] = neighb['nsu'] / neighb['total'] * 100\n",
    "neighb.sort_values(by='nsu_%', ascending=False, inplace=True)\n",
    "neighb"
   ]
  },
  {
   "cell_type": "code",
   "execution_count": 85,
   "metadata": {},
   "outputs": [
    {
     "data": {
      "image/png": "[encoded data removed]",
      "text/plain": [
       "<Figure size 576x432 with 1 Axes>"
      ]
     },
     "metadata": {
      "needs_background": "light"
     },
     "output_type": "display_data"
    }
   ],
   "source": [
    "plt.figure(figsize=(8, 6))\n",
    "x_ind = np.arange(len(places_names)) \n",
    "heights = neighb['nsu_%']\n",
    "plt.bar(x_ind, heights, color='steelblue', edgecolor='black', alpha=0.7)\n",
    "plt.xticks(x_ind, neighb.index, fontsize=8, rotation=90)\n",
    "plt.xlabel('Locations')\n",
    "plt.ylabel('Percentage')\n",
    "plt.title('Percentage of Non-Attendance at the 15 Largest Locations')\n",
    "plt.axhline(y=pct_no_show_up, color='r', linestyle='-', label='Mean not attended overall')\n",
    "plt.legend();"
   ]
  },
  {
   "cell_type": "markdown",
   "metadata": {},
   "source": [
    "Six locations were above the overall mean of 20.19% non-attendance. Especially the locations *ITARARÉ* (26.3%),  *JESUS DE NAZARETH* (24.4%) and *CARATOÍRA* (23%) had high non-attendance percentage rates."
   ]
  },
  {
   "cell_type": "markdown",
   "metadata": {},
   "source": [
    "<a id='mul'></a>\n",
    "### 3.8. Patients with multiple appointments versus patients with a single appointment\n",
    "Did patients with more than one appointment miss their appointments more often than patients with a single appointment?  \n",
    "First, let's have a look at the attendance percentage rate of patients with multiple appointments. Then, we'll analyse the patients with a single appointment."
   ]
  },
  {
   "cell_type": "code",
   "execution_count": 86,
   "metadata": {},
   "outputs": [],
   "source": [
    "# select the ids of patients with more than one appointment\n",
    "x = df.groupby('patient_id').size()\n",
    "mul_app = x[x > 1].keys() # patients ids with multiple appointments"
   ]
  },
  {
   "cell_type": "code",
   "execution_count": 87,
   "metadata": {},
   "outputs": [
    {
     "data": {
      "text/html": [
       "<div>\n",
       "<style scoped>\n",
       "    .dataframe tbody tr th:only-of-type {\n",
       "        vertical-align: middle;\n",
       "    }\n",
       "\n",
       "    .dataframe tbody tr th {\n",
       "        vertical-align: top;\n",
       "    }\n",
       "\n",
       "    .dataframe thead th {\n",
       "        text-align: right;\n",
       "    }\n",
       "</style>\n",
       "<table border=\"1\" class=\"dataframe\">\n",
       "  <thead>\n",
       "    <tr style=\"text-align: right;\">\n",
       "      <th></th>\n",
       "      <th>patient_id</th>\n",
       "      <th>appointment_id</th>\n",
       "      <th>gender</th>\n",
       "      <th>scheduled_day</th>\n",
       "      <th>appointment_day</th>\n",
       "      <th>age</th>\n",
       "      <th>neighbourhood</th>\n",
       "      <th>scholarship</th>\n",
       "      <th>hypertension</th>\n",
       "      <th>diabetes</th>\n",
       "      <th>alcoholism</th>\n",
       "      <th>handicap</th>\n",
       "      <th>sms_received</th>\n",
       "      <th>no_show</th>\n",
       "      <th>waiting_period_days</th>\n",
       "    </tr>\n",
       "  </thead>\n",
       "  <tbody>\n",
       "    <tr>\n",
       "      <th>0</th>\n",
       "      <td>29872499824296.0</td>\n",
       "      <td>5642903</td>\n",
       "      <td>F</td>\n",
       "      <td>2016-04-29</td>\n",
       "      <td>2016-04-29</td>\n",
       "      <td>62</td>\n",
       "      <td>JARDIM DA PENHA</td>\n",
       "      <td>No</td>\n",
       "      <td>Yes</td>\n",
       "      <td>No</td>\n",
       "      <td>No</td>\n",
       "      <td>0</td>\n",
       "      <td>0</td>\n",
       "      <td>No</td>\n",
       "      <td>0</td>\n",
       "    </tr>\n",
       "    <tr>\n",
       "      <th>1</th>\n",
       "      <td>558997776694438.0</td>\n",
       "      <td>5642503</td>\n",
       "      <td>M</td>\n",
       "      <td>2016-04-29</td>\n",
       "      <td>2016-04-29</td>\n",
       "      <td>56</td>\n",
       "      <td>JARDIM DA PENHA</td>\n",
       "      <td>No</td>\n",
       "      <td>No</td>\n",
       "      <td>No</td>\n",
       "      <td>No</td>\n",
       "      <td>0</td>\n",
       "      <td>0</td>\n",
       "      <td>No</td>\n",
       "      <td>0</td>\n",
       "    </tr>\n",
       "    <tr>\n",
       "      <th>2</th>\n",
       "      <td>4262962299951.0</td>\n",
       "      <td>5642549</td>\n",
       "      <td>F</td>\n",
       "      <td>2016-04-29</td>\n",
       "      <td>2016-04-29</td>\n",
       "      <td>62</td>\n",
       "      <td>MATA DA PRAIA</td>\n",
       "      <td>No</td>\n",
       "      <td>No</td>\n",
       "      <td>No</td>\n",
       "      <td>No</td>\n",
       "      <td>0</td>\n",
       "      <td>0</td>\n",
       "      <td>No</td>\n",
       "      <td>0</td>\n",
       "    </tr>\n",
       "    <tr>\n",
       "      <th>3</th>\n",
       "      <td>867951213174.0</td>\n",
       "      <td>5642828</td>\n",
       "      <td>F</td>\n",
       "      <td>2016-04-29</td>\n",
       "      <td>2016-04-29</td>\n",
       "      <td>8</td>\n",
       "      <td>PONTAL DE CAMBURI</td>\n",
       "      <td>No</td>\n",
       "      <td>No</td>\n",
       "      <td>No</td>\n",
       "      <td>No</td>\n",
       "      <td>0</td>\n",
       "      <td>0</td>\n",
       "      <td>No</td>\n",
       "      <td>0</td>\n",
       "    </tr>\n",
       "    <tr>\n",
       "      <th>5</th>\n",
       "      <td>95985133231274.0</td>\n",
       "      <td>5626772</td>\n",
       "      <td>F</td>\n",
       "      <td>2016-04-27</td>\n",
       "      <td>2016-04-29</td>\n",
       "      <td>76</td>\n",
       "      <td>REPÚBLICA</td>\n",
       "      <td>No</td>\n",
       "      <td>Yes</td>\n",
       "      <td>No</td>\n",
       "      <td>No</td>\n",
       "      <td>0</td>\n",
       "      <td>0</td>\n",
       "      <td>No</td>\n",
       "      <td>2</td>\n",
       "    </tr>\n",
       "  </tbody>\n",
       "</table>\n",
       "</div>"
      ],
      "text/plain": [
       "         patient_id  appointment_id gender scheduled_day appointment_day  age  \\\n",
       "0  29872499824296.0         5642903      F    2016-04-29      2016-04-29   62   \n",
       "1 558997776694438.0         5642503      M    2016-04-29      2016-04-29   56   \n",
       "2   4262962299951.0         5642549      F    2016-04-29      2016-04-29   62   \n",
       "3    867951213174.0         5642828      F    2016-04-29      2016-04-29    8   \n",
       "5  95985133231274.0         5626772      F    2016-04-27      2016-04-29   76   \n",
       "\n",
       "       neighbourhood scholarship hypertension diabetes alcoholism  handicap  \\\n",
       "0    JARDIM DA PENHA          No          Yes       No         No         0   \n",
       "1    JARDIM DA PENHA          No           No       No         No         0   \n",
       "2      MATA DA PRAIA          No           No       No         No         0   \n",
       "3  PONTAL DE CAMBURI          No           No       No         No         0   \n",
       "5          REPÚBLICA          No          Yes       No         No         0   \n",
       "\n",
       "   sms_received no_show  waiting_period_days  \n",
       "0             0      No                    0  \n",
       "1             0      No                    0  \n",
       "2             0      No                    0  \n",
       "3             0      No                    0  \n",
       "5             0      No                    2  "
      ]
     },
     "execution_count": 87,
     "metadata": {},
     "output_type": "execute_result"
    }
   ],
   "source": [
    "# dataframe 'df_mul_app' of the patients with multiple appointments\n",
    "df_mul_app = df[df['patient_id'].isin(mul_app)]\n",
    "df_mul_app.head()"
   ]
  },
  {
   "cell_type": "code",
   "execution_count": 88,
   "metadata": {},
   "outputs": [
    {
     "data": {
      "text/plain": [
       "No     57406\n",
       "Yes    15195\n",
       "Name: no_show, dtype: int64"
      ]
     },
     "execution_count": 88,
     "metadata": {},
     "output_type": "execute_result"
    }
   ],
   "source": [
    "# repartition of the attendance for patients with multiple appointments\n",
    "df_mul_app['no_show'].value_counts()"
   ]
  },
  {
   "cell_type": "code",
   "execution_count": 89,
   "metadata": {},
   "outputs": [],
   "source": [
    "# select the ids of patients with only one appointment\n",
    "one_app = x[x == 1].keys()"
   ]
  },
  {
   "cell_type": "code",
   "execution_count": 90,
   "metadata": {},
   "outputs": [
    {
     "data": {
      "text/html": [
       "<div>\n",
       "<style scoped>\n",
       "    .dataframe tbody tr th:only-of-type {\n",
       "        vertical-align: middle;\n",
       "    }\n",
       "\n",
       "    .dataframe tbody tr th {\n",
       "        vertical-align: top;\n",
       "    }\n",
       "\n",
       "    .dataframe thead th {\n",
       "        text-align: right;\n",
       "    }\n",
       "</style>\n",
       "<table border=\"1\" class=\"dataframe\">\n",
       "  <thead>\n",
       "    <tr style=\"text-align: right;\">\n",
       "      <th></th>\n",
       "      <th>patient_id</th>\n",
       "      <th>appointment_id</th>\n",
       "      <th>gender</th>\n",
       "      <th>scheduled_day</th>\n",
       "      <th>appointment_day</th>\n",
       "      <th>age</th>\n",
       "      <th>neighbourhood</th>\n",
       "      <th>scholarship</th>\n",
       "      <th>hypertension</th>\n",
       "      <th>diabetes</th>\n",
       "      <th>alcoholism</th>\n",
       "      <th>handicap</th>\n",
       "      <th>sms_received</th>\n",
       "      <th>no_show</th>\n",
       "      <th>waiting_period_days</th>\n",
       "    </tr>\n",
       "  </thead>\n",
       "  <tbody>\n",
       "    <tr>\n",
       "      <th>4</th>\n",
       "      <td>8841186448183.0</td>\n",
       "      <td>5642494</td>\n",
       "      <td>F</td>\n",
       "      <td>2016-04-29</td>\n",
       "      <td>2016-04-29</td>\n",
       "      <td>56</td>\n",
       "      <td>JARDIM DA PENHA</td>\n",
       "      <td>No</td>\n",
       "      <td>Yes</td>\n",
       "      <td>Yes</td>\n",
       "      <td>No</td>\n",
       "      <td>0</td>\n",
       "      <td>0</td>\n",
       "      <td>No</td>\n",
       "      <td>0</td>\n",
       "    </tr>\n",
       "    <tr>\n",
       "      <th>6</th>\n",
       "      <td>733688164476661.0</td>\n",
       "      <td>5630279</td>\n",
       "      <td>F</td>\n",
       "      <td>2016-04-27</td>\n",
       "      <td>2016-04-29</td>\n",
       "      <td>23</td>\n",
       "      <td>GOIABEIRAS</td>\n",
       "      <td>No</td>\n",
       "      <td>No</td>\n",
       "      <td>No</td>\n",
       "      <td>No</td>\n",
       "      <td>0</td>\n",
       "      <td>0</td>\n",
       "      <td>Yes</td>\n",
       "      <td>2</td>\n",
       "    </tr>\n",
       "    <tr>\n",
       "      <th>8</th>\n",
       "      <td>56394729949972.0</td>\n",
       "      <td>5638447</td>\n",
       "      <td>F</td>\n",
       "      <td>2016-04-29</td>\n",
       "      <td>2016-04-29</td>\n",
       "      <td>21</td>\n",
       "      <td>ANDORINHAS</td>\n",
       "      <td>No</td>\n",
       "      <td>No</td>\n",
       "      <td>No</td>\n",
       "      <td>No</td>\n",
       "      <td>0</td>\n",
       "      <td>0</td>\n",
       "      <td>No</td>\n",
       "      <td>0</td>\n",
       "    </tr>\n",
       "    <tr>\n",
       "      <th>9</th>\n",
       "      <td>78124564369297.0</td>\n",
       "      <td>5629123</td>\n",
       "      <td>F</td>\n",
       "      <td>2016-04-27</td>\n",
       "      <td>2016-04-29</td>\n",
       "      <td>19</td>\n",
       "      <td>CONQUISTA</td>\n",
       "      <td>No</td>\n",
       "      <td>No</td>\n",
       "      <td>No</td>\n",
       "      <td>No</td>\n",
       "      <td>0</td>\n",
       "      <td>0</td>\n",
       "      <td>No</td>\n",
       "      <td>2</td>\n",
       "    </tr>\n",
       "    <tr>\n",
       "      <th>10</th>\n",
       "      <td>734536231958495.0</td>\n",
       "      <td>5630213</td>\n",
       "      <td>F</td>\n",
       "      <td>2016-04-27</td>\n",
       "      <td>2016-04-29</td>\n",
       "      <td>30</td>\n",
       "      <td>NOVA PALESTINA</td>\n",
       "      <td>No</td>\n",
       "      <td>No</td>\n",
       "      <td>No</td>\n",
       "      <td>No</td>\n",
       "      <td>0</td>\n",
       "      <td>0</td>\n",
       "      <td>No</td>\n",
       "      <td>2</td>\n",
       "    </tr>\n",
       "  </tbody>\n",
       "</table>\n",
       "</div>"
      ],
      "text/plain": [
       "          patient_id  appointment_id gender scheduled_day appointment_day  \\\n",
       "4    8841186448183.0         5642494      F    2016-04-29      2016-04-29   \n",
       "6  733688164476661.0         5630279      F    2016-04-27      2016-04-29   \n",
       "8   56394729949972.0         5638447      F    2016-04-29      2016-04-29   \n",
       "9   78124564369297.0         5629123      F    2016-04-27      2016-04-29   \n",
       "10 734536231958495.0         5630213      F    2016-04-27      2016-04-29   \n",
       "\n",
       "    age    neighbourhood scholarship hypertension diabetes alcoholism  \\\n",
       "4    56  JARDIM DA PENHA          No          Yes      Yes         No   \n",
       "6    23       GOIABEIRAS          No           No       No         No   \n",
       "8    21       ANDORINHAS          No           No       No         No   \n",
       "9    19        CONQUISTA          No           No       No         No   \n",
       "10   30   NOVA PALESTINA          No           No       No         No   \n",
       "\n",
       "    handicap  sms_received no_show  waiting_period_days  \n",
       "4          0             0      No                    0  \n",
       "6          0             0     Yes                    2  \n",
       "8          0             0      No                    0  \n",
       "9          0             0      No                    2  \n",
       "10         0             0      No                    2  "
      ]
     },
     "execution_count": 90,
     "metadata": {},
     "output_type": "execute_result"
    }
   ],
   "source": [
    "# dataframe 'df_one_app' of the patients with one appointment\n",
    "df_one_app = df[df['patient_id'].isin(one_app)]\n",
    "df_one_app.head()"
   ]
  },
  {
   "cell_type": "code",
   "execution_count": 91,
   "metadata": {},
   "outputs": [
    {
     "data": {
      "text/plain": [
       "No     30801\n",
       "Yes     7119\n",
       "Name: no_show, dtype: int64"
      ]
     },
     "execution_count": 91,
     "metadata": {},
     "output_type": "execute_result"
    }
   ],
   "source": [
    "# repartition of the attendance for patients with one appointment\n",
    "df_one_app['no_show'].value_counts()"
   ]
  },
  {
   "cell_type": "code",
   "execution_count": 92,
   "metadata": {},
   "outputs": [
    {
     "data": {
      "text/html": [
       "<div>\n",
       "<style scoped>\n",
       "    .dataframe tbody tr th:only-of-type {\n",
       "        vertical-align: middle;\n",
       "    }\n",
       "\n",
       "    .dataframe tbody tr th {\n",
       "        vertical-align: top;\n",
       "    }\n",
       "\n",
       "    .dataframe thead th {\n",
       "        text-align: right;\n",
       "    }\n",
       "</style>\n",
       "<table border=\"1\" class=\"dataframe\">\n",
       "  <thead>\n",
       "    <tr style=\"text-align: right;\">\n",
       "      <th></th>\n",
       "      <th>mul_app</th>\n",
       "      <th>mul_app_%</th>\n",
       "      <th>one_app</th>\n",
       "      <th>one_app_%</th>\n",
       "    </tr>\n",
       "  </thead>\n",
       "  <tbody>\n",
       "    <tr>\n",
       "      <th>No</th>\n",
       "      <td>57406</td>\n",
       "      <td>79.1</td>\n",
       "      <td>30801</td>\n",
       "      <td>81.2</td>\n",
       "    </tr>\n",
       "    <tr>\n",
       "      <th>Yes</th>\n",
       "      <td>15195</td>\n",
       "      <td>20.9</td>\n",
       "      <td>7119</td>\n",
       "      <td>18.8</td>\n",
       "    </tr>\n",
       "  </tbody>\n",
       "</table>\n",
       "</div>"
      ],
      "text/plain": [
       "     mul_app  mul_app_%  one_app  one_app_%\n",
       "No     57406       79.1    30801       81.2\n",
       "Yes    15195       20.9     7119       18.8"
      ]
     },
     "execution_count": 92,
     "metadata": {},
     "output_type": "execute_result"
    }
   ],
   "source": [
    "# new dataframe 'df_app' resulting from concatenation of 'df_mul_app' and 'df_one_app' & percentage calculation for each selection\n",
    "df_app = pd.concat([df_mul_app['no_show'].value_counts(), \n",
    "            df_mul_app['no_show'].value_counts(normalize=True).mul(100),\n",
    "            df_one_app['no_show'].value_counts(), \n",
    "            df_one_app['no_show'].value_counts(normalize=True).mul(100),],axis=1, \n",
    "            keys=('mul_app', 'mul_app_%','one_app','one_app_%'))\n",
    "df_app"
   ]
  },
  {
   "cell_type": "code",
   "execution_count": 93,
   "metadata": {},
   "outputs": [
    {
     "data": {
      "image/png": "[encoded data removed]",
      "text/plain": [
       "<Figure size 576x432 with 1 Axes>"
      ]
     },
     "metadata": {
      "needs_background": "light"
     },
     "output_type": "display_data"
    }
   ],
   "source": [
    "plt.figure(figsize=(8, 6))\n",
    "x_ind = np.arange(len(df_app['one_app'])) \n",
    "width = 0.4\n",
    "plt.bar(x_ind, df_app['mul_app_%'], width, color='silver', edgecolor='black', alpha=0.7, label='multiple appointments')\n",
    "plt.bar(x_ind + width, df_app['one_app_%'], width, color='steelblue', edgecolor='black', alpha=0.7, label='single appointment')\n",
    "labels = ['Yes', 'No']\n",
    "locations = x_ind + width / 2\n",
    "plt.xticks(locations, labels)\n",
    "plt.axhline(y=pct_no_show_up, color='r', linestyle='-', label='Mean not attended overall')\n",
    "plt.title('Attendance Comparison by Number of Appointments')\n",
    "plt.xlabel('Did the patient showed up to his appointment?')\n",
    "plt.ylabel('Percentage')\n",
    "plt.tight_layout()\n",
    "plt.legend();"
   ]
  },
  {
   "cell_type": "markdown",
   "metadata": {},
   "source": [
    "Patients with multiple appointements were slightly more likely to miss their appointments (20.9%) than patients who had only one appointment (18.8%). These non-attendance averages are very close to the overall non-attendance percentage rate of 20.19%."
   ]
  },
  {
   "cell_type": "markdown",
   "metadata": {},
   "source": [
    "<a id='wait'></a>\n",
    "### 3.9. Waiting Periods\n",
    "How much did waiting periods between schedule and appointment affect the attendance at appointments?  \n",
    "Let's first take a look at some statistics (mean, median) of the factor waiting time."
   ]
  },
  {
   "cell_type": "code",
   "execution_count": 94,
   "metadata": {},
   "outputs": [],
   "source": [
    "# series of factor 'waiting_period_days' in total (t), showed up (su) and not showed up (nsu)\n",
    "t = df['waiting_period_days']\n",
    "su = df[show_up]['waiting_period_days']\n",
    "nsu = df[no_show_up]['waiting_period_days']"
   ]
  },
  {
   "cell_type": "code",
   "execution_count": 95,
   "metadata": {},
   "outputs": [
    {
     "data": {
      "text/plain": [
       "(10.184345056595578, 4.0)"
      ]
     },
     "execution_count": 95,
     "metadata": {},
     "output_type": "execute_result"
    }
   ],
   "source": [
    "# mean and median waiting time overall\n",
    "t.mean(), t.median()"
   ]
  },
  {
   "cell_type": "code",
   "execution_count": 96,
   "metadata": {},
   "outputs": [
    {
     "data": {
      "text/plain": [
       "(8.754758692620767, 2.0)"
      ]
     },
     "execution_count": 96,
     "metadata": {},
     "output_type": "execute_result"
    }
   ],
   "source": [
    "# mean and median waiting time for attended appointments\n",
    "su.mean(), su.median()"
   ]
  },
  {
   "cell_type": "code",
   "execution_count": 97,
   "metadata": {},
   "outputs": [
    {
     "data": {
      "text/plain": [
       "(15.835484449224701, 11.0)"
      ]
     },
     "execution_count": 97,
     "metadata": {},
     "output_type": "execute_result"
    }
   ],
   "source": [
    "# mean and median waiting time for non-attended appointments\n",
    "nsu.mean(), nsu.median()"
   ]
  },
  {
   "cell_type": "markdown",
   "metadata": {},
   "source": [
    "We can see that all medians strongly differ from their corresponding means. Let's make an exploratory plot the distribution of the waiting times:"
   ]
  },
  {
   "cell_type": "code",
   "execution_count": 98,
   "metadata": {},
   "outputs": [
    {
     "data": {
      "image/png": "[encoded data removed]",
      "text/plain": [
       "<Figure size 576x432 with 1 Axes>"
      ]
     },
     "metadata": {
      "needs_background": "light"
     },
     "output_type": "display_data"
    }
   ],
   "source": [
    "df['waiting_period_days'].value_counts().plot(kind='line', figsize=(8,6));"
   ]
  },
  {
   "cell_type": "markdown",
   "metadata": {},
   "source": [
    "It seems that waiting periods < 10 are very frequent compared to other waiting times values:"
   ]
  },
  {
   "cell_type": "code",
   "execution_count": 99,
   "metadata": {},
   "outputs": [
    {
     "data": {
      "text/plain": [
       "0    38562\n",
       "2     6725\n",
       "4     5290\n",
       "1     5213\n",
       "7     4906\n",
       "6     4037\n",
       "5     3277\n",
       "3     2737\n",
       "8     2332\n",
       "9     1605\n",
       "Name: waiting_period_days, dtype: int64"
      ]
     },
     "execution_count": 99,
     "metadata": {},
     "output_type": "execute_result"
    }
   ],
   "source": [
    "# number of appointments with a waiting time < 10 days\n",
    "t[t < 10].value_counts()"
   ]
  },
  {
   "cell_type": "markdown",
   "metadata": {},
   "source": [
    "38562 appointments had a waiting time = 0 days. This high number compared to the other waiting time values explains the deviations between the means and medians."
   ]
  },
  {
   "cell_type": "code",
   "execution_count": 100,
   "metadata": {},
   "outputs": [],
   "source": [
    "# indexes of the nsu waiting times greater than the nsu mean waiting time (15.85 days) \n",
    "ind = list(nsu[nsu > nsu.mean()].index)"
   ]
  },
  {
   "cell_type": "code",
   "execution_count": 101,
   "metadata": {},
   "outputs": [
    {
     "data": {
      "text/html": [
       "<div>\n",
       "<style scoped>\n",
       "    .dataframe tbody tr th:only-of-type {\n",
       "        vertical-align: middle;\n",
       "    }\n",
       "\n",
       "    .dataframe tbody tr th {\n",
       "        vertical-align: top;\n",
       "    }\n",
       "\n",
       "    .dataframe thead th {\n",
       "        text-align: right;\n",
       "    }\n",
       "</style>\n",
       "<table border=\"1\" class=\"dataframe\">\n",
       "  <thead>\n",
       "    <tr style=\"text-align: right;\">\n",
       "      <th></th>\n",
       "      <th>total</th>\n",
       "      <th>total_%</th>\n",
       "      <th>show_up</th>\n",
       "      <th>show_up_%</th>\n",
       "      <th>no_show_up</th>\n",
       "      <th>no_show_up_%</th>\n",
       "    </tr>\n",
       "  </thead>\n",
       "  <tbody>\n",
       "    <tr>\n",
       "      <th>0</th>\n",
       "      <td>38562</td>\n",
       "      <td>100.0</td>\n",
       "      <td>36770.0</td>\n",
       "      <td>95.4</td>\n",
       "      <td>1792.0</td>\n",
       "      <td>4.6</td>\n",
       "    </tr>\n",
       "    <tr>\n",
       "      <th>1</th>\n",
       "      <td>5213</td>\n",
       "      <td>100.0</td>\n",
       "      <td>4100.0</td>\n",
       "      <td>78.6</td>\n",
       "      <td>1113.0</td>\n",
       "      <td>21.4</td>\n",
       "    </tr>\n",
       "    <tr>\n",
       "      <th>2</th>\n",
       "      <td>6725</td>\n",
       "      <td>100.0</td>\n",
       "      <td>5123.0</td>\n",
       "      <td>76.2</td>\n",
       "      <td>1602.0</td>\n",
       "      <td>23.8</td>\n",
       "    </tr>\n",
       "    <tr>\n",
       "      <th>3</th>\n",
       "      <td>2737</td>\n",
       "      <td>100.0</td>\n",
       "      <td>2093.0</td>\n",
       "      <td>76.5</td>\n",
       "      <td>644.0</td>\n",
       "      <td>23.5</td>\n",
       "    </tr>\n",
       "    <tr>\n",
       "      <th>4</th>\n",
       "      <td>5290</td>\n",
       "      <td>100.0</td>\n",
       "      <td>4059.0</td>\n",
       "      <td>76.7</td>\n",
       "      <td>1231.0</td>\n",
       "      <td>23.3</td>\n",
       "    </tr>\n",
       "    <tr>\n",
       "      <th>...</th>\n",
       "      <td>...</td>\n",
       "      <td>...</td>\n",
       "      <td>...</td>\n",
       "      <td>...</td>\n",
       "      <td>...</td>\n",
       "      <td>...</td>\n",
       "    </tr>\n",
       "    <tr>\n",
       "      <th>155</th>\n",
       "      <td>10</td>\n",
       "      <td>100.0</td>\n",
       "      <td>4.0</td>\n",
       "      <td>40.0</td>\n",
       "      <td>6.0</td>\n",
       "      <td>60.0</td>\n",
       "    </tr>\n",
       "    <tr>\n",
       "      <th>162</th>\n",
       "      <td>11</td>\n",
       "      <td>100.0</td>\n",
       "      <td>9.0</td>\n",
       "      <td>81.8</td>\n",
       "      <td>2.0</td>\n",
       "      <td>18.2</td>\n",
       "    </tr>\n",
       "    <tr>\n",
       "      <th>169</th>\n",
       "      <td>8</td>\n",
       "      <td>100.0</td>\n",
       "      <td>7.0</td>\n",
       "      <td>87.5</td>\n",
       "      <td>1.0</td>\n",
       "      <td>12.5</td>\n",
       "    </tr>\n",
       "    <tr>\n",
       "      <th>176</th>\n",
       "      <td>16</td>\n",
       "      <td>100.0</td>\n",
       "      <td>10.0</td>\n",
       "      <td>62.5</td>\n",
       "      <td>6.0</td>\n",
       "      <td>37.5</td>\n",
       "    </tr>\n",
       "    <tr>\n",
       "      <th>179</th>\n",
       "      <td>10</td>\n",
       "      <td>100.0</td>\n",
       "      <td>8.0</td>\n",
       "      <td>80.0</td>\n",
       "      <td>2.0</td>\n",
       "      <td>20.0</td>\n",
       "    </tr>\n",
       "  </tbody>\n",
       "</table>\n",
       "<p>129 rows × 6 columns</p>\n",
       "</div>"
      ],
      "text/plain": [
       "     total  total_%  show_up  show_up_%  no_show_up  no_show_up_%\n",
       "0    38562    100.0  36770.0       95.4      1792.0           4.6\n",
       "1     5213    100.0   4100.0       78.6      1113.0          21.4\n",
       "2     6725    100.0   5123.0       76.2      1602.0          23.8\n",
       "3     2737    100.0   2093.0       76.5       644.0          23.5\n",
       "4     5290    100.0   4059.0       76.7      1231.0          23.3\n",
       "..     ...      ...      ...        ...         ...           ...\n",
       "155     10    100.0      4.0       40.0         6.0          60.0\n",
       "162     11    100.0      9.0       81.8         2.0          18.2\n",
       "169      8    100.0      7.0       87.5         1.0          12.5\n",
       "176     16    100.0     10.0       62.5         6.0          37.5\n",
       "179     10    100.0      8.0       80.0         2.0          20.0\n",
       "\n",
       "[129 rows x 6 columns]"
      ]
     },
     "execution_count": 101,
     "metadata": {},
     "output_type": "execute_result"
    }
   ],
   "source": [
    "# new dataframe 'df_waiting_fac' resulting from calling function df_byfactor - missed appointments by waiting days\n",
    "df_waiting_fac = df_byfactor(t, su, nsu)\n",
    "df_waiting_fac"
   ]
  },
  {
   "cell_type": "code",
   "execution_count": 102,
   "metadata": {},
   "outputs": [
    {
     "data": {
      "image/png": "[encoded data removed]",
      "text/plain": [
       "<Figure size 576x432 with 1 Axes>"
      ]
     },
     "metadata": {
      "needs_background": "light"
     },
     "output_type": "display_data"
    }
   ],
   "source": [
    "plt.figure(figsize=(8, 6))\n",
    "x_ind = np.arange(len(df_waiting_fac['total'])) \n",
    "plt.bar(x_ind, df_waiting_fac['show_up_%'], alpha=0.7, color='seagreen', label='% attended')\n",
    "plt.bar(x_ind, df_waiting_fac['no_show_up_%'], bottom=df_waiting_fac['show_up_%'], alpha=0.7, color='orange', label='% non-attended')\n",
    "plt.axvline(t.median(), color='black', label='Median waiting days overall')\n",
    "plt.axvline(t.mean(), color='red', label='Mean waiting days overall')\n",
    "plt.axhline(y=pct_show_up, color='b', linestyle='-', label='Mean showed up overall %')\n",
    "plt.ylabel('Percentage')\n",
    "plt.xlabel('Waiting time in days')\n",
    "plt.title('Waiting Time for Appointments and the Corresponding Attendance Status')\n",
    "plt.tight_layout()\n",
    "plt.legend();"
   ]
  },
  {
   "cell_type": "markdown",
   "metadata": {},
   "source": [
    "We can cleary see, that the mean value of the total number of appointments attended, which is 79,81% (blue line), is higher than most of the attended percentage rates per waiting period (green bars).  \n",
    "This is due to the 38562 waiting periods of 0 days. This waiting period accounts for 34.89% of all appointments and, with an attendance percentage rate of 95.4%, is well above the mean value of appointments attended (79,81%).  \n",
    "The high percentage rates for attended appointments for waiting periods over 85 days should not have a great influence on the overall mean of attended appointments, since only 330 appointments with waiting periods over 85 days are included in our dataset.  \n",
    "  \n",
    "  Let's calculate the overall mean attendance where all waiting periods equal to 0 day have been excluded:"
   ]
  },
  {
   "cell_type": "code",
   "execution_count": 103,
   "metadata": {},
   "outputs": [
    {
     "data": {
      "text/plain": [
       "No    79.8\n",
       "Yes   20.2\n",
       "Name: no_show, dtype: float64"
      ]
     },
     "execution_count": 103,
     "metadata": {},
     "output_type": "execute_result"
    }
   ],
   "source": [
    "# mean attendance and non-attendance percentage rates with all waiting times included\n",
    "df['no_show'].value_counts(normalize=True).mul(100)"
   ]
  },
  {
   "cell_type": "code",
   "execution_count": 104,
   "metadata": {},
   "outputs": [
    {
     "data": {
      "text/plain": [
       "No    71.5\n",
       "Yes   28.5\n",
       "Name: no_show, dtype: float64"
      ]
     },
     "execution_count": 104,
     "metadata": {},
     "output_type": "execute_result"
    }
   ],
   "source": [
    "# mean attendance and non-attendance percentage rates with waiting time = 0 excluded\n",
    "df.query('waiting_period_days != 0')['no_show'].value_counts(normalize=True).mul(100)"
   ]
  },
  {
   "cell_type": "markdown",
   "metadata": {},
   "source": [
    "In average, 20.2% of all appointments are unattended. If we exclude the waiting period equals to 0 days, 28.5% of alle appointments are unattended.  \n",
    "To visualize the differences of unattendance between the different waiting periods, let's plot the average percentage of  unattended appointments. We're also going to group the waiting periods in bins of 20 days."
   ]
  },
  {
   "cell_type": "code",
   "execution_count": 105,
   "metadata": {},
   "outputs": [],
   "source": [
    "# mean unattendance at appointments grouped in waiting period bins of 20 days (scaled from 0 days to 80+ days)\n",
    "w_0 = df.query('waiting_period_days == 0')['no_show'].value_counts(normalize=True).mul(100)['Yes']\n",
    "w_1 = df.query('0 < waiting_period_days < 20')['no_show'].value_counts(normalize=True).mul(100)['Yes']\n",
    "w_20 = df.query('20 <= waiting_period_days < 40')['no_show'].value_counts(normalize=True).mul(100)['Yes']\n",
    "w_40 = df.query('40 <= waiting_period_days < 60')['no_show'].value_counts(normalize=True).mul(100)['Yes']\n",
    "w_60 = df.query('60 <= waiting_period_days < 80')['no_show'].value_counts(normalize=True).mul(100)['Yes']\n",
    "w_80 = df.query('waiting_period_days >= 80')['no_show'].value_counts(normalize=True).mul(100)['Yes']"
   ]
  },
  {
   "cell_type": "code",
   "execution_count": 106,
   "metadata": {},
   "outputs": [
    {
     "data": {
      "image/png": "[encoded data removed]",
      "text/plain": [
       "<Figure size 576x432 with 1 Axes>"
      ]
     },
     "metadata": {
      "needs_background": "light"
     },
     "output_type": "display_data"
    }
   ],
   "source": [
    "plt.figure(figsize=(8, 6))\n",
    "width = 0.50\n",
    "plt.bar(1, w_0, width, color='forestgreen', edgecolor='black', alpha=0.7)\n",
    "plt.bar(2, w_1, width, color='yellowgreen', edgecolor='black', alpha=0.7)\n",
    "plt.bar(3, w_20, width, color='khaki', edgecolor='black', alpha=0.7)\n",
    "plt.bar(4, w_40, width, color='gold', edgecolor='black', alpha=0.7)\n",
    "plt.bar(5, w_60, width, color='orange', edgecolor='black', alpha=0.7)\n",
    "plt.bar(6, w_80, width, color='orangered', edgecolor='black', alpha=0.7)\n",
    "plt.axhline(y=pct_no_show_up, color='r', linestyle='-', label='Mean not attended overall')\n",
    "labels = ['0', '1-19', '20-39', '40-59', '60-79', '80+']\n",
    "locations = (1,2,3,4,5,6)\n",
    "plt.xticks(locations, labels)\n",
    "plt.title('Mean Non-Attendance per Waiting Time in Days')\n",
    "plt.xlabel('Waiting time in Days')\n",
    "plt.ylabel('Percentage unattended')\n",
    "plt.tight_layout();"
   ]
  },
  {
   "cell_type": "markdown",
   "metadata": {},
   "source": [
    "The highest unattendance percentage rate concerns appointments with a waiting time between 40 and 59 days."
   ]
  },
  {
   "cell_type": "markdown",
   "metadata": {},
   "source": [
    "<a id='conclusions'></a>\n",
    "## 4. Conclusions\n",
    "Here are the findings from the analysis. All these results are only observations and do not imply any causation."
   ]
  },
  {
   "cell_type": "markdown",
   "metadata": {},
   "source": [
    "#### Question 1:  \n",
    "Which factors had an impact on the attendance at appointments and which factors did not?"
   ]
  },
  {
   "cell_type": "markdown",
   "metadata": {},
   "source": [
    " - Gender:  \n",
    " The factor gender hadn't a strong influence on the attendance of appointments. Unattended appointments were done by 34.6% male and 65.4% female. This distribution is very similar to the overall distribution of appointment by gender: 35.7% male and 64.3% female.  \n",
    " Men miss their appointments only slighty less often than women: 20,3% of the women and 20.0% of the men didn't show up to their appointments."
   ]
  },
  {
   "cell_type": "markdown",
   "metadata": {},
   "source": [
    "- Age:  \n",
    "The factor age seems to have an influence on the non-attendance at appointments. The median age of patients who didn't show up for their appointment is 33 years. The median age for attended appointments is 38 years.\n",
    "The highest percentage rate of non-attended appointments is made by patients between 10 and 30 years of age."
   ]
  },
  {
   "cell_type": "markdown",
   "metadata": {},
   "source": [
    "- Diseases:  \n",
    "All diseases and disabilities (hypertension, alcoholism, diabetes, handicap) were analysed together in this category.\n",
    "In average, the factor diseases had a slightly positive influence on the attendance at appointments: Patients with diseases and/or disabilities werw more likely to come to their appointment than patients without these diseases. Patients with hypertension in particular were only 17.3% of the cases that did not come to their appointment. This is 2,9 percent point lower than the mean non-attendance of 20,2%. "
   ]
  },
  {
   "cell_type": "markdown",
   "metadata": {},
   "source": [
    "- Scholarship / social welfare:  \n",
    "The factor social welfare seems to have an influence on the non-attendance at appointments: 9,8% of all appointments were made by patients who benefit from welfare aids. Unattended appointments were done in 11,6% of the cases by patients who received social welfare.  \n",
    "The non-attendance percentage rate of patients with social welfare is 3.9 percentage points higher (23.7%) than the non-attendance percentage rate of patients without social welfare (19.8%).  \n",
    "Because of this strong deviation, we checked another factor of the appointments made by patients with social welfare: the age. We found out that younger patients (< 30 years old) and older patients (> 50 years old) who benefit from social welfare were more likely to miss their appointments."
   ]
  },
  {
   "cell_type": "markdown",
   "metadata": {},
   "source": [
    "- Receipt of reminder sms:  \n",
    "The factor sms also seems to have an influence on the non-attendance at appointments: 32.1% of all appointments have been reminded by sms. The percentage rate of missed appointments that were reminded by sms is noticeably higher: 43.8%.  \n",
    "Also, about 28% of the patients who received a sms didn't show up to their appointments. This is a big contrast to the 16.7% of patients who didn't received a sms and also didn't show up.\n",
    "Because of this strong deviation, we checked another factor of the appointments made by patients who received a sms: the age.\n",
    "We observed that patients who have received a sms are more likely to attend at their appointment if they are between 50 and 70 years old.\n",
    "The receipt of a sms has a quite small influence on the attendance when patients are around 15 to 25 years old. \n"
   ]
  },
  {
   "cell_type": "markdown",
   "metadata": {},
   "source": [
    "- Neighbourhood / Locations:  \n",
    "The factor Neighbourhood hadn't a strong influence on the attendance of appointments. Due to the high number ob locations in the dataset, we selected the 15 largest locations in terms of number of appointments.  \n",
    "Six locations are above the overall mean of 20.19% non-attendance. Especially the locations ITARARÉ (26.3%), JESUS DE NAZARETH (24.4%) and CARATOÍRA (23%) had high non-attendance percentage rates.  \n",
    "JARDIM CAMBURI, which was the location with the largest number of appointments (7717), had a non-attendance percentage rate of 19.0 %."
   ]
  },
  {
   "cell_type": "markdown",
   "metadata": {},
   "source": [
    "#### Question 2:  \n",
    "Were patients, who had multiple appointments, more likely to miss their appointments as patients who had only one appointment?"
   ]
  },
  {
   "cell_type": "markdown",
   "metadata": {},
   "source": [
    "Patients with multiple appointements were slightly more likely to miss their appointments (20.9%) than patients who had only one appointment (18.8%). However, these non-attendance averages are very close to the overall non-attendance percentage rate of 20.19%. It seems, therefore, that the factor \"multiple appointments\" has not strong influence on the non-attendance at appointments."
   ]
  },
  {
   "cell_type": "markdown",
   "metadata": {},
   "source": [
    "#### Question 3:  \n",
    "Did the waiting time between the date of appointment registration and the date of the actual appointment had an effect on the attendance? "
   ]
  },
  {
   "cell_type": "markdown",
   "metadata": {},
   "source": [
    "Yes, the waiting time had an impact on the attendance to appointments. The first noticeable point is the gap between mean and median waiting times. It turned out that this was due to a high number of appointments (38562 - 34.89% of all appointments) that had a waiting period of 0 days.  \n",
    "This high number could result from spontaneous / urgent appointments.  \n",
    "Most of the attended percentage rates per waiting period were below the mean attending percentage rate overall (79.81%). Only the waiting period of 0 days was an outlier because of its attending percentage rate of 95.4%. The attendance percentage rate of the waiting period of 0 days therefore clearly had an influence on the mean attending percentage rate overall (79.81%). To visualize this, we excluded the waiting period equal to 0 days and calculated a new mean value: 28.5% of alle appointments are unattended.  \n",
    "The highest unattendance percentage rate concerns appointments with a waiting time between 40 and 59 days."
   ]
  },
  {
   "cell_type": "markdown",
   "metadata": {},
   "source": [
    "### Limitations:\n",
    "- This analysis is limited to grouping the availabe information into attended and non-attended appointments.\n",
    "- This analysis is based solely on observations and descriptions of the factors available in the dataset. There is no predictions.\n",
    "- A few data has been removed from the dataset, but only those that were obviously wrong (Minus Age, Schedule date after appointment date). We didn't find any duplicates or NaN values.\n",
    "- We assumed that all data entries with age = 0 concerned babies. However it cannot be excluded that the value 0 stands for missing data.\n",
    "- The analysis about locations has been delimited to the 15 largest locations in term of number of appointments. This might not be sufficient for proper observations."
   ]
  },
  {
   "cell_type": "markdown",
   "metadata": {},
   "source": [
    "Footnote 1: https://en.wikipedia.org/wiki/Bolsa_Fam%C3%ADlia"
   ]
  }
 ],
 "metadata": {
  "kernelspec": {
   "display_name": "Python 3",
   "language": "python",
   "name": "python3"
  },
  "language_info": {
   "codemirror_mode": {
    "name": "ipython",
    "version": 3
   },
   "file_extension": ".py",
   "mimetype": "text/x-python",
   "name": "python",
   "nbconvert_exporter": "python",
   "pygments_lexer": "ipython3",
   "version": "3.7.9"
  }
 },
 "nbformat": 4,
 "nbformat_minor": 4
}
